{
 "cells": [
  {
   "cell_type": "code",
   "execution_count": 3,
   "metadata": {},
   "outputs": [],
   "source": [
    "import pandas as pd\n",
    "import numpy as np\n",
    "import matplotlib.pyplot as plt\n",
    "import seaborn as sns\n",
    "\n",
    "%matplotlib inline\n",
    "plt.style.use('fivethirtyeight')\n",
    "pd.set_option('display.max_columns', 50)\n",
    "pd.set_option('display.max_rows', 50)\n",
    "pd.set_option('display.float', '{:.4f}'.format)"
   ]
  },
  {
   "cell_type": "code",
   "execution_count": 4,
   "metadata": {},
   "outputs": [
    {
     "data": {
      "text/html": [
       "<div>\n",
       "<style scoped>\n",
       "    .dataframe tbody tr th:only-of-type {\n",
       "        vertical-align: middle;\n",
       "    }\n",
       "\n",
       "    .dataframe tbody tr th {\n",
       "        vertical-align: top;\n",
       "    }\n",
       "\n",
       "    .dataframe thead th {\n",
       "        text-align: right;\n",
       "    }\n",
       "</style>\n",
       "<table border=\"1\" class=\"dataframe\">\n",
       "  <thead>\n",
       "    <tr style=\"text-align: right;\">\n",
       "      <th></th>\n",
       "      <th>gender</th>\n",
       "      <th>SeniorCitizen</th>\n",
       "      <th>Partner</th>\n",
       "      <th>Dependents</th>\n",
       "      <th>PhoneService</th>\n",
       "      <th>OnlineSecurity</th>\n",
       "      <th>OnlineBackup</th>\n",
       "      <th>DeviceProtection</th>\n",
       "      <th>TechSupport</th>\n",
       "      <th>StreamingTV</th>\n",
       "      <th>StreamingMovies</th>\n",
       "      <th>PaperlessBilling</th>\n",
       "      <th>MonthlyCharges</th>\n",
       "      <th>TotalCharges</th>\n",
       "      <th>Churn</th>\n",
       "      <th>MultipleLines_No phone service</th>\n",
       "      <th>MultipleLines_Yes</th>\n",
       "      <th>InternetService_Fiber optic</th>\n",
       "      <th>InternetService_No</th>\n",
       "      <th>Contract_One year</th>\n",
       "      <th>Contract_Two year</th>\n",
       "      <th>PaymentMethod_Credit card (automatic)</th>\n",
       "      <th>PaymentMethod_Electronic check</th>\n",
       "      <th>PaymentMethod_Mailed check</th>\n",
       "      <th>tenure_2</th>\n",
       "      <th>tenure_3</th>\n",
       "      <th>tenure_4</th>\n",
       "      <th>tenure_5</th>\n",
       "    </tr>\n",
       "  </thead>\n",
       "  <tbody>\n",
       "    <tr>\n",
       "      <th>0</th>\n",
       "      <td>0.0000</td>\n",
       "      <td>0.0000</td>\n",
       "      <td>1.0000</td>\n",
       "      <td>0.0000</td>\n",
       "      <td>0.0000</td>\n",
       "      <td>0.0000</td>\n",
       "      <td>1.0000</td>\n",
       "      <td>0.0000</td>\n",
       "      <td>0.0000</td>\n",
       "      <td>0.0000</td>\n",
       "      <td>0.0000</td>\n",
       "      <td>1.0000</td>\n",
       "      <td>29.8500</td>\n",
       "      <td>29.8500</td>\n",
       "      <td>0.0000</td>\n",
       "      <td>1.0000</td>\n",
       "      <td>0.0000</td>\n",
       "      <td>0.0000</td>\n",
       "      <td>0.0000</td>\n",
       "      <td>0.0000</td>\n",
       "      <td>0.0000</td>\n",
       "      <td>0.0000</td>\n",
       "      <td>1.0000</td>\n",
       "      <td>0.0000</td>\n",
       "      <td>0.0000</td>\n",
       "      <td>0.0000</td>\n",
       "      <td>0.0000</td>\n",
       "      <td>0.0000</td>\n",
       "    </tr>\n",
       "    <tr>\n",
       "      <th>1</th>\n",
       "      <td>1.0000</td>\n",
       "      <td>0.0000</td>\n",
       "      <td>0.0000</td>\n",
       "      <td>0.0000</td>\n",
       "      <td>1.0000</td>\n",
       "      <td>1.0000</td>\n",
       "      <td>0.0000</td>\n",
       "      <td>1.0000</td>\n",
       "      <td>0.0000</td>\n",
       "      <td>0.0000</td>\n",
       "      <td>0.0000</td>\n",
       "      <td>0.0000</td>\n",
       "      <td>56.9500</td>\n",
       "      <td>1889.5000</td>\n",
       "      <td>0.0000</td>\n",
       "      <td>0.0000</td>\n",
       "      <td>0.0000</td>\n",
       "      <td>0.0000</td>\n",
       "      <td>0.0000</td>\n",
       "      <td>1.0000</td>\n",
       "      <td>0.0000</td>\n",
       "      <td>0.0000</td>\n",
       "      <td>0.0000</td>\n",
       "      <td>1.0000</td>\n",
       "      <td>0.0000</td>\n",
       "      <td>1.0000</td>\n",
       "      <td>0.0000</td>\n",
       "      <td>0.0000</td>\n",
       "    </tr>\n",
       "    <tr>\n",
       "      <th>2</th>\n",
       "      <td>1.0000</td>\n",
       "      <td>0.0000</td>\n",
       "      <td>0.0000</td>\n",
       "      <td>0.0000</td>\n",
       "      <td>1.0000</td>\n",
       "      <td>1.0000</td>\n",
       "      <td>1.0000</td>\n",
       "      <td>0.0000</td>\n",
       "      <td>0.0000</td>\n",
       "      <td>0.0000</td>\n",
       "      <td>0.0000</td>\n",
       "      <td>1.0000</td>\n",
       "      <td>53.8500</td>\n",
       "      <td>108.1500</td>\n",
       "      <td>1.0000</td>\n",
       "      <td>0.0000</td>\n",
       "      <td>0.0000</td>\n",
       "      <td>0.0000</td>\n",
       "      <td>0.0000</td>\n",
       "      <td>0.0000</td>\n",
       "      <td>0.0000</td>\n",
       "      <td>0.0000</td>\n",
       "      <td>0.0000</td>\n",
       "      <td>1.0000</td>\n",
       "      <td>0.0000</td>\n",
       "      <td>0.0000</td>\n",
       "      <td>0.0000</td>\n",
       "      <td>0.0000</td>\n",
       "    </tr>\n",
       "    <tr>\n",
       "      <th>3</th>\n",
       "      <td>1.0000</td>\n",
       "      <td>0.0000</td>\n",
       "      <td>0.0000</td>\n",
       "      <td>0.0000</td>\n",
       "      <td>0.0000</td>\n",
       "      <td>1.0000</td>\n",
       "      <td>0.0000</td>\n",
       "      <td>1.0000</td>\n",
       "      <td>1.0000</td>\n",
       "      <td>0.0000</td>\n",
       "      <td>0.0000</td>\n",
       "      <td>0.0000</td>\n",
       "      <td>42.3000</td>\n",
       "      <td>1840.7500</td>\n",
       "      <td>0.0000</td>\n",
       "      <td>1.0000</td>\n",
       "      <td>0.0000</td>\n",
       "      <td>0.0000</td>\n",
       "      <td>0.0000</td>\n",
       "      <td>1.0000</td>\n",
       "      <td>0.0000</td>\n",
       "      <td>0.0000</td>\n",
       "      <td>0.0000</td>\n",
       "      <td>0.0000</td>\n",
       "      <td>0.0000</td>\n",
       "      <td>1.0000</td>\n",
       "      <td>0.0000</td>\n",
       "      <td>0.0000</td>\n",
       "    </tr>\n",
       "    <tr>\n",
       "      <th>4</th>\n",
       "      <td>0.0000</td>\n",
       "      <td>0.0000</td>\n",
       "      <td>0.0000</td>\n",
       "      <td>0.0000</td>\n",
       "      <td>1.0000</td>\n",
       "      <td>0.0000</td>\n",
       "      <td>0.0000</td>\n",
       "      <td>0.0000</td>\n",
       "      <td>0.0000</td>\n",
       "      <td>0.0000</td>\n",
       "      <td>0.0000</td>\n",
       "      <td>1.0000</td>\n",
       "      <td>70.7000</td>\n",
       "      <td>151.6500</td>\n",
       "      <td>1.0000</td>\n",
       "      <td>0.0000</td>\n",
       "      <td>0.0000</td>\n",
       "      <td>1.0000</td>\n",
       "      <td>0.0000</td>\n",
       "      <td>0.0000</td>\n",
       "      <td>0.0000</td>\n",
       "      <td>0.0000</td>\n",
       "      <td>1.0000</td>\n",
       "      <td>0.0000</td>\n",
       "      <td>0.0000</td>\n",
       "      <td>0.0000</td>\n",
       "      <td>0.0000</td>\n",
       "      <td>0.0000</td>\n",
       "    </tr>\n",
       "  </tbody>\n",
       "</table>\n",
       "</div>"
      ],
      "text/plain": [
       "   gender  SeniorCitizen  Partner  Dependents  PhoneService  OnlineSecurity  \\\n",
       "0  0.0000         0.0000   1.0000      0.0000        0.0000          0.0000   \n",
       "1  1.0000         0.0000   0.0000      0.0000        1.0000          1.0000   \n",
       "2  1.0000         0.0000   0.0000      0.0000        1.0000          1.0000   \n",
       "3  1.0000         0.0000   0.0000      0.0000        0.0000          1.0000   \n",
       "4  0.0000         0.0000   0.0000      0.0000        1.0000          0.0000   \n",
       "\n",
       "   OnlineBackup  DeviceProtection  TechSupport  StreamingTV  StreamingMovies  \\\n",
       "0        1.0000            0.0000       0.0000       0.0000           0.0000   \n",
       "1        0.0000            1.0000       0.0000       0.0000           0.0000   \n",
       "2        1.0000            0.0000       0.0000       0.0000           0.0000   \n",
       "3        0.0000            1.0000       1.0000       0.0000           0.0000   \n",
       "4        0.0000            0.0000       0.0000       0.0000           0.0000   \n",
       "\n",
       "   PaperlessBilling  MonthlyCharges  TotalCharges  Churn  \\\n",
       "0            1.0000         29.8500       29.8500 0.0000   \n",
       "1            0.0000         56.9500     1889.5000 0.0000   \n",
       "2            1.0000         53.8500      108.1500 1.0000   \n",
       "3            0.0000         42.3000     1840.7500 0.0000   \n",
       "4            1.0000         70.7000      151.6500 1.0000   \n",
       "\n",
       "   MultipleLines_No phone service  MultipleLines_Yes  \\\n",
       "0                          1.0000             0.0000   \n",
       "1                          0.0000             0.0000   \n",
       "2                          0.0000             0.0000   \n",
       "3                          1.0000             0.0000   \n",
       "4                          0.0000             0.0000   \n",
       "\n",
       "   InternetService_Fiber optic  InternetService_No  Contract_One year  \\\n",
       "0                       0.0000              0.0000             0.0000   \n",
       "1                       0.0000              0.0000             1.0000   \n",
       "2                       0.0000              0.0000             0.0000   \n",
       "3                       0.0000              0.0000             1.0000   \n",
       "4                       1.0000              0.0000             0.0000   \n",
       "\n",
       "   Contract_Two year  PaymentMethod_Credit card (automatic)  \\\n",
       "0             0.0000                                 0.0000   \n",
       "1             0.0000                                 0.0000   \n",
       "2             0.0000                                 0.0000   \n",
       "3             0.0000                                 0.0000   \n",
       "4             0.0000                                 0.0000   \n",
       "\n",
       "   PaymentMethod_Electronic check  PaymentMethod_Mailed check  tenure_2  \\\n",
       "0                          1.0000                      0.0000    0.0000   \n",
       "1                          0.0000                      1.0000    0.0000   \n",
       "2                          0.0000                      1.0000    0.0000   \n",
       "3                          0.0000                      0.0000    0.0000   \n",
       "4                          1.0000                      0.0000    0.0000   \n",
       "\n",
       "   tenure_3  tenure_4  tenure_5  \n",
       "0    0.0000    0.0000    0.0000  \n",
       "1    1.0000    0.0000    0.0000  \n",
       "2    0.0000    0.0000    0.0000  \n",
       "3    1.0000    0.0000    0.0000  \n",
       "4    0.0000    0.0000    0.0000  "
      ]
     },
     "execution_count": 4,
     "metadata": {},
     "output_type": "execute_result"
    }
   ],
   "source": [
    "data = pd.read_csv('data/clean_data.csv')\n",
    "data.head()"
   ]
  },
  {
   "cell_type": "code",
   "execution_count": 6,
   "metadata": {},
   "outputs": [
    {
     "name": "stdout",
     "output_type": "stream",
     "text": [
      "<class 'pandas.core.frame.DataFrame'>\n",
      "RangeIndex: 7021 entries, 0 to 7020\n",
      "Data columns (total 28 columns):\n",
      " #   Column                                 Non-Null Count  Dtype  \n",
      "---  ------                                 --------------  -----  \n",
      " 0   gender                                 7021 non-null   float64\n",
      " 1   SeniorCitizen                          7021 non-null   float64\n",
      " 2   Partner                                7021 non-null   float64\n",
      " 3   Dependents                             7021 non-null   float64\n",
      " 4   PhoneService                           7021 non-null   float64\n",
      " 5   OnlineSecurity                         7021 non-null   float64\n",
      " 6   OnlineBackup                           7021 non-null   float64\n",
      " 7   DeviceProtection                       7021 non-null   float64\n",
      " 8   TechSupport                            7021 non-null   float64\n",
      " 9   StreamingTV                            7021 non-null   float64\n",
      " 10  StreamingMovies                        7021 non-null   float64\n",
      " 11  PaperlessBilling                       7021 non-null   float64\n",
      " 12  MonthlyCharges                         7021 non-null   float64\n",
      " 13  TotalCharges                           7021 non-null   float64\n",
      " 14  Churn                                  7021 non-null   float64\n",
      " 15  MultipleLines_No phone service         7021 non-null   float64\n",
      " 16  MultipleLines_Yes                      7021 non-null   float64\n",
      " 17  InternetService_Fiber optic            7021 non-null   float64\n",
      " 18  InternetService_No                     7021 non-null   float64\n",
      " 19  Contract_One year                      7021 non-null   float64\n",
      " 20  Contract_Two year                      7021 non-null   float64\n",
      " 21  PaymentMethod_Credit card (automatic)  7021 non-null   float64\n",
      " 22  PaymentMethod_Electronic check         7021 non-null   float64\n",
      " 23  PaymentMethod_Mailed check             7021 non-null   float64\n",
      " 24  tenure_2                               7021 non-null   float64\n",
      " 25  tenure_3                               7021 non-null   float64\n",
      " 26  tenure_4                               7021 non-null   float64\n",
      " 27  tenure_5                               7021 non-null   float64\n",
      "dtypes: float64(28)\n",
      "memory usage: 1.5 MB\n"
     ]
    }
   ],
   "source": [
    "data.info()"
   ]
  },
  {
   "cell_type": "markdown",
   "metadata": {},
   "source": [
    "# Train Test Split"
   ]
  },
  {
   "cell_type": "code",
   "execution_count": 7,
   "metadata": {},
   "outputs": [],
   "source": [
    "from sklearn.model_selection import train_test_split\n",
    "from sklearn.preprocessing import StandardScaler\n",
    "\n",
    "X = data.drop('Churn', axis=1)\n",
    "y = data.Churn\n",
    "\n",
    "X_train, X_test, y_train, y_test = train_test_split(X, y, test_size=0.3, random_state=42)"
   ]
  },
  {
   "cell_type": "code",
   "execution_count": 8,
   "metadata": {},
   "outputs": [],
   "source": [
    "from sklearn.metrics import accuracy_score, confusion_matrix, precision_score, recall_score, f1_score\n",
    "\n",
    "def print_score(clf, X_train, y_train, X_test, y_test, train=True):\n",
    "    if train:\n",
    "        pred = clf.predict(X_train)\n",
    "        print(\"Train Result:\\n================================================\")\n",
    "        print(f\"Accuracy Score: {accuracy_score(y_train, pred) * 100:.2f}%\")\n",
    "        print(\"_______________________________________________\")\n",
    "        print(\"Classification Report:\", end='')\n",
    "        print(f\"\\tPrecision Score: {precision_score(y_train, pred) * 100:.2f}%\")\n",
    "        print(f\"\\t\\t\\tRecall Score: {recall_score(y_train, pred) * 100:.2f}%\")\n",
    "        print(f\"\\t\\t\\tF1 score: {f1_score(y_train, pred) * 100:.2f}%\")\n",
    "        print(\"_______________________________________________\")\n",
    "        print(f\"Confusion Matrix: \\n {confusion_matrix(y_train, pred)}\\n\")\n",
    "        \n",
    "    elif train==False:\n",
    "        pred = clf.predict(X_test)\n",
    "        print(\"Test Result:\\n================================================\")        \n",
    "        print(f\"Accuracy Score: {accuracy_score(y_test, pred) * 100:.2f}%\")\n",
    "        print(\"_______________________________________________\")\n",
    "        print(\"Classification Report:\", end='')\n",
    "        print(f\"\\tPrecision Score: {precision_score(y_test, pred) * 100:.2f}%\")\n",
    "        print(f\"\\t\\t\\tRecall Score: {recall_score(y_test, pred) * 100:.2f}%\")\n",
    "        print(f\"\\t\\t\\tF1 score: {f1_score(y_test, pred) * 100:.2f}%\")\n",
    "        print(\"_______________________________________________\")\n",
    "        print(f\"Confusion Matrix: \\n {confusion_matrix(y_test, pred)}\\n\")"
   ]
  },
  {
   "cell_type": "markdown",
   "metadata": {},
   "source": [
    "# 1. Logistic Regression"
   ]
  },
  {
   "cell_type": "code",
   "execution_count": 9,
   "metadata": {},
   "outputs": [
    {
     "name": "stdout",
     "output_type": "stream",
     "text": [
      "Train Result:\n",
      "================================================\n",
      "Accuracy Score: 80.73%\n",
      "_______________________________________________\n",
      "Classification Report:\tPrecision Score: 68.64%\n",
      "\t\t\tRecall Score: 50.61%\n",
      "\t\t\tF1 score: 58.26%\n",
      "_______________________________________________\n",
      "Confusion Matrix: \n",
      " [[3306  302]\n",
      " [ 645  661]]\n",
      "\n",
      "Test Result:\n",
      "================================================\n",
      "Accuracy Score: 79.78%\n",
      "_______________________________________________\n",
      "Classification Report:\tPrecision Score: 65.13%\n",
      "\t\t\tRecall Score: 48.82%\n",
      "\t\t\tF1 score: 55.81%\n",
      "_______________________________________________\n",
      "Confusion Matrix: \n",
      " [[1412  144]\n",
      " [ 282  269]]\n",
      "\n"
     ]
    }
   ],
   "source": [
    "from sklearn.linear_model import LogisticRegression\n",
    "\n",
    "lr_classifier = LogisticRegression(solver='liblinear', penalty='l2')\n",
    "lr_classifier.fit(X_train, y_train)\n",
    "\n",
    "print_score(lr_classifier, X_train, y_train, X_test, y_test, train=True)\n",
    "print_score(lr_classifier, X_train, y_train, X_test, y_test, train=False)"
   ]
  },
  {
   "cell_type": "code",
   "execution_count": 17,
   "metadata": {},
   "outputs": [
    {
     "data": {
      "image/png": "[encoded data removed]",
      "text/plain": [
       "<Figure size 432x288 with 2 Axes>"
      ]
     },
     "metadata": {},
     "output_type": "display_data"
    }
   ],
   "source": [
    "from sklearn.metrics import plot_confusion_matrix, plot_roc_curve\n",
    "\n",
    "disp = plot_confusion_matrix(lr_classifier, X_test, y_test, \n",
    "                             cmap='Blues', values_format='d', \n",
    "                             display_labels=['Stay', 'Churn'])"
   ]
  },
  {
   "cell_type": "code",
   "execution_count": 18,
   "metadata": {},
   "outputs": [
    {
     "data": {
      "image/png": "[encoded data removed]",
      "text/plain": [
       "<Figure size 432x288 with 1 Axes>"
      ]
     },
     "metadata": {},
     "output_type": "display_data"
    }
   ],
   "source": [
    "disp = plot_roc_curve(lr_classifier, X_test, y_test)"
   ]
  },
  {
   "cell_type": "markdown",
   "metadata": {},
   "source": [
    "# 2. Random Forest Classifier"
   ]
  },
  {
   "cell_type": "code",
   "execution_count": 20,
   "metadata": {},
   "outputs": [
    {
     "name": "stdout",
     "output_type": "stream",
     "text": [
      "Staying Rate: 73.42%\n",
      "Churning Rate: 26.58%\n"
     ]
    }
   ],
   "source": [
    "stay = (y_train.value_counts()[0] / y_train.shape)[0]\n",
    "churn = (y_train.value_counts()[1] / y_train.shape)[0]\n",
    "\n",
    "print(f\"Staying Rate: {stay * 100:.2f}%\")\n",
    "print(f\"Churning Rate: {churn * 100 :.2f}%\")"
   ]
  },
  {
   "cell_type": "code",
   "execution_count": 35,
   "metadata": {},
   "outputs": [
    {
     "name": "stdout",
     "output_type": "stream",
     "text": [
      "Train Result:\n",
      "================================================\n",
      "Accuracy Score: 99.72%\n",
      "_______________________________________________\n",
      "Classification Report:\tPrecision Score: 99.46%\n",
      "\t\t\tRecall Score: 99.46%\n",
      "\t\t\tF1 score: 99.46%\n",
      "_______________________________________________\n",
      "Confusion Matrix: \n",
      " [[3601    7]\n",
      " [   7 1299]]\n",
      "\n",
      "Test Result:\n",
      "================================================\n",
      "Accuracy Score: 78.93%\n",
      "_______________________________________________\n",
      "Classification Report:\tPrecision Score: 62.41%\n",
      "\t\t\tRecall Score: 48.82%\n",
      "\t\t\tF1 score: 54.79%\n",
      "_______________________________________________\n",
      "Confusion Matrix: \n",
      " [[1394  162]\n",
      " [ 282  269]]\n",
      "\n"
     ]
    }
   ],
   "source": [
    "from sklearn.ensemble import RandomForestClassifier\n",
    "\n",
    "rand_forest = RandomForestClassifier(n_estimators=1000)\n",
    "rand_forest.fit(X_train, y_train)\n",
    "\n",
    "print_score(rand_forest, X_train, y_train, X_test, y_test, train=True)\n",
    "print_score(rand_forest, X_train, y_train, X_test, y_test, train=False)"
   ]
  },
  {
   "cell_type": "code",
   "execution_count": null,
   "metadata": {},
   "outputs": [
    {
     "name": "stdout",
     "output_type": "stream",
     "text": [
      "Fitting 3 folds for each of 720 candidates, totalling 2160 fits\n"
     ]
    },
    {
     "name": "stderr",
     "output_type": "stream",
     "text": [
      "[Parallel(n_jobs=-1)]: Using backend LokyBackend with 4 concurrent workers.\n",
      "[Parallel(n_jobs=-1)]: Done  42 tasks      | elapsed:   51.9s\n",
      "[Parallel(n_jobs=-1)]: Done 192 tasks      | elapsed:  3.8min\n"
     ]
    }
   ],
   "source": [
    "from sklearn.model_selection import GridSearchCV\n",
    "\n",
    "rf_clf = RandomForestClassifier(n_estimators=100)\n",
    "\n",
    "param_grid = {'n_estimators':[100, 500, 1000, 1500],\n",
    "              'max_depth':[3, 5, 7, 10, 15, None], \n",
    "              'min_samples_split':[2, 3, 10], \n",
    "              'min_samples_leaf':[1, 3, 5, 7, 10], \n",
    "              'criterion':[\"gini\", \"entropy\"]}\n",
    "\n",
    "rf_grid_cv = GridSearchCV(rf_clf, param_grid, scoring=\"f1\", n_jobs=-1, verbose=1, cv=3)\n",
    "rf_grid_cv.fit(X_train, y_train)"
   ]
  },
  {
   "cell_type": "code",
   "execution_count": null,
   "metadata": {},
   "outputs": [],
   "source": [
    "rf_grid_cv.best_estimator_"
   ]
  },
  {
   "cell_type": "code",
   "execution_count": null,
   "metadata": {},
   "outputs": [],
   "source": [
    "rf_clf = RandomForestClassifier(criterion='entropy',\n",
    "                                max_depth=15,\n",
    "                                min_samples_leaf=1, \n",
    "                                min_samples_split=10,\n",
    "                                n_estimators=500)\n",
    "\n",
    "rf_clf.fit(X_train, y_train)\n",
    "print_score(rf_clf, X_train, y_train, X_test, y_test, train=True)\n",
    "print_score(rf_clf, X_train, y_train, X_test, y_test, train=False)"
   ]
  },
  {
   "cell_type": "code",
   "execution_count": 27,
   "metadata": {},
   "outputs": [
    {
     "data": {
      "image/png": "[encoded data removed]",
      "text/plain": [
       "<Figure size 432x288 with 2 Axes>"
      ]
     },
     "metadata": {},
     "output_type": "display_data"
    }
   ],
   "source": [
    "disp = plot_confusion_matrix(rf_clf, X_test, y_test, \n",
    "                             cmap='Blues', values_format='d', \n",
    "                             display_labels=['Stay', 'Churn'])"
   ]
  },
  {
   "cell_type": "code",
   "execution_count": 28,
   "metadata": {},
   "outputs": [
    {
     "data": {
      "text/plain": [
       "<sklearn.metrics._plot.roc_curve.RocCurveDisplay at 0x1e84e9c1f98>"
      ]
     },
     "execution_count": 28,
     "metadata": {},
     "output_type": "execute_result"
    },
    {
     "data": {
      "image/png": "[encoded data removed]",
      "text/plain": [
       "<Figure size 432x288 with 1 Axes>"
      ]
     },
     "metadata": {},
     "output_type": "display_data"
    }
   ],
   "source": [
    "disp = plot_roc_curve(lr_classifier, X_test, y_test)\n",
    "plot_roc_curve(rf_clf, X_test, y_test, ax=disp.ax_)"
   ]
  },
  {
   "cell_type": "code",
   "execution_count": null,
   "metadata": {},
   "outputs": [],
   "source": []
  }
 ],
 "metadata": {
  "kernelspec": {
   "display_name": "Python 3",
   "language": "python",
   "name": "python3"
  },
  "language_info": {
   "codemirror_mode": {
    "name": "ipython",
    "version": 3
   },
   "file_extension": ".py",
   "mimetype": "text/x-python",
   "name": "python",
   "nbconvert_exporter": "python",
   "pygments_lexer": "ipython3",
   "version": "3.7.3"
  }
 },
 "nbformat": 4,
 "nbformat_minor": 4
}
