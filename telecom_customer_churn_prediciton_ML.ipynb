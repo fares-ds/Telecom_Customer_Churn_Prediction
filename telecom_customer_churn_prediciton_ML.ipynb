{
 "cells": [
  {
   "cell_type": "code",
   "execution_count": 1,
   "metadata": {},
   "outputs": [],
   "source": [
    "import pandas as pd\n",
    "import numpy as np\n",
    "import matplotlib.pyplot as plt\n",
    "import seaborn as sns\n",
    "\n",
    "%matplotlib inline\n",
    "# plt.style.use('fivethirtyeight')\n",
    "pd.set_option('display.max_columns', 50)\n",
    "pd.set_option('display.max_rows', 50)\n",
    "pd.set_option('display.float', '{:.4f}'.format)"
   ]
  },
  {
   "cell_type": "code",
   "execution_count": 2,
   "metadata": {},
   "outputs": [
    {
     "data": {
      "text/html": [
       "<div>\n",
       "<style scoped>\n",
       "    .dataframe tbody tr th:only-of-type {\n",
       "        vertical-align: middle;\n",
       "    }\n",
       "\n",
       "    .dataframe tbody tr th {\n",
       "        vertical-align: top;\n",
       "    }\n",
       "\n",
       "    .dataframe thead th {\n",
       "        text-align: right;\n",
       "    }\n",
       "</style>\n",
       "<table border=\"1\" class=\"dataframe\">\n",
       "  <thead>\n",
       "    <tr style=\"text-align: right;\">\n",
       "      <th></th>\n",
       "      <th>gender</th>\n",
       "      <th>SeniorCitizen</th>\n",
       "      <th>Partner</th>\n",
       "      <th>Dependents</th>\n",
       "      <th>PhoneService</th>\n",
       "      <th>OnlineSecurity</th>\n",
       "      <th>OnlineBackup</th>\n",
       "      <th>DeviceProtection</th>\n",
       "      <th>TechSupport</th>\n",
       "      <th>StreamingTV</th>\n",
       "      <th>StreamingMovies</th>\n",
       "      <th>PaperlessBilling</th>\n",
       "      <th>MonthlyCharges</th>\n",
       "      <th>TotalCharges</th>\n",
       "      <th>Churn</th>\n",
       "      <th>MultipleLines_No phone service</th>\n",
       "      <th>MultipleLines_Yes</th>\n",
       "      <th>InternetService_Fiber optic</th>\n",
       "      <th>InternetService_No</th>\n",
       "      <th>Contract_One year</th>\n",
       "      <th>Contract_Two year</th>\n",
       "      <th>PaymentMethod_Credit card (automatic)</th>\n",
       "      <th>PaymentMethod_Electronic check</th>\n",
       "      <th>PaymentMethod_Mailed check</th>\n",
       "      <th>tenure_2</th>\n",
       "      <th>tenure_3</th>\n",
       "      <th>tenure_4</th>\n",
       "      <th>tenure_5</th>\n",
       "    </tr>\n",
       "  </thead>\n",
       "  <tbody>\n",
       "    <tr>\n",
       "      <th>0</th>\n",
       "      <td>0.0000</td>\n",
       "      <td>0.0000</td>\n",
       "      <td>1.0000</td>\n",
       "      <td>0.0000</td>\n",
       "      <td>0.0000</td>\n",
       "      <td>0.0000</td>\n",
       "      <td>1.0000</td>\n",
       "      <td>0.0000</td>\n",
       "      <td>0.0000</td>\n",
       "      <td>0.0000</td>\n",
       "      <td>0.0000</td>\n",
       "      <td>1.0000</td>\n",
       "      <td>29.8500</td>\n",
       "      <td>29.8500</td>\n",
       "      <td>0.0000</td>\n",
       "      <td>1.0000</td>\n",
       "      <td>0.0000</td>\n",
       "      <td>0.0000</td>\n",
       "      <td>0.0000</td>\n",
       "      <td>0.0000</td>\n",
       "      <td>0.0000</td>\n",
       "      <td>0.0000</td>\n",
       "      <td>1.0000</td>\n",
       "      <td>0.0000</td>\n",
       "      <td>0.0000</td>\n",
       "      <td>0.0000</td>\n",
       "      <td>0.0000</td>\n",
       "      <td>0.0000</td>\n",
       "    </tr>\n",
       "    <tr>\n",
       "      <th>1</th>\n",
       "      <td>1.0000</td>\n",
       "      <td>0.0000</td>\n",
       "      <td>0.0000</td>\n",
       "      <td>0.0000</td>\n",
       "      <td>1.0000</td>\n",
       "      <td>1.0000</td>\n",
       "      <td>0.0000</td>\n",
       "      <td>1.0000</td>\n",
       "      <td>0.0000</td>\n",
       "      <td>0.0000</td>\n",
       "      <td>0.0000</td>\n",
       "      <td>0.0000</td>\n",
       "      <td>56.9500</td>\n",
       "      <td>1889.5000</td>\n",
       "      <td>0.0000</td>\n",
       "      <td>0.0000</td>\n",
       "      <td>0.0000</td>\n",
       "      <td>0.0000</td>\n",
       "      <td>0.0000</td>\n",
       "      <td>1.0000</td>\n",
       "      <td>0.0000</td>\n",
       "      <td>0.0000</td>\n",
       "      <td>0.0000</td>\n",
       "      <td>1.0000</td>\n",
       "      <td>0.0000</td>\n",
       "      <td>1.0000</td>\n",
       "      <td>0.0000</td>\n",
       "      <td>0.0000</td>\n",
       "    </tr>\n",
       "    <tr>\n",
       "      <th>2</th>\n",
       "      <td>1.0000</td>\n",
       "      <td>0.0000</td>\n",
       "      <td>0.0000</td>\n",
       "      <td>0.0000</td>\n",
       "      <td>1.0000</td>\n",
       "      <td>1.0000</td>\n",
       "      <td>1.0000</td>\n",
       "      <td>0.0000</td>\n",
       "      <td>0.0000</td>\n",
       "      <td>0.0000</td>\n",
       "      <td>0.0000</td>\n",
       "      <td>1.0000</td>\n",
       "      <td>53.8500</td>\n",
       "      <td>108.1500</td>\n",
       "      <td>1.0000</td>\n",
       "      <td>0.0000</td>\n",
       "      <td>0.0000</td>\n",
       "      <td>0.0000</td>\n",
       "      <td>0.0000</td>\n",
       "      <td>0.0000</td>\n",
       "      <td>0.0000</td>\n",
       "      <td>0.0000</td>\n",
       "      <td>0.0000</td>\n",
       "      <td>1.0000</td>\n",
       "      <td>0.0000</td>\n",
       "      <td>0.0000</td>\n",
       "      <td>0.0000</td>\n",
       "      <td>0.0000</td>\n",
       "    </tr>\n",
       "    <tr>\n",
       "      <th>3</th>\n",
       "      <td>1.0000</td>\n",
       "      <td>0.0000</td>\n",
       "      <td>0.0000</td>\n",
       "      <td>0.0000</td>\n",
       "      <td>0.0000</td>\n",
       "      <td>1.0000</td>\n",
       "      <td>0.0000</td>\n",
       "      <td>1.0000</td>\n",
       "      <td>1.0000</td>\n",
       "      <td>0.0000</td>\n",
       "      <td>0.0000</td>\n",
       "      <td>0.0000</td>\n",
       "      <td>42.3000</td>\n",
       "      <td>1840.7500</td>\n",
       "      <td>0.0000</td>\n",
       "      <td>1.0000</td>\n",
       "      <td>0.0000</td>\n",
       "      <td>0.0000</td>\n",
       "      <td>0.0000</td>\n",
       "      <td>1.0000</td>\n",
       "      <td>0.0000</td>\n",
       "      <td>0.0000</td>\n",
       "      <td>0.0000</td>\n",
       "      <td>0.0000</td>\n",
       "      <td>0.0000</td>\n",
       "      <td>1.0000</td>\n",
       "      <td>0.0000</td>\n",
       "      <td>0.0000</td>\n",
       "    </tr>\n",
       "    <tr>\n",
       "      <th>4</th>\n",
       "      <td>0.0000</td>\n",
       "      <td>0.0000</td>\n",
       "      <td>0.0000</td>\n",
       "      <td>0.0000</td>\n",
       "      <td>1.0000</td>\n",
       "      <td>0.0000</td>\n",
       "      <td>0.0000</td>\n",
       "      <td>0.0000</td>\n",
       "      <td>0.0000</td>\n",
       "      <td>0.0000</td>\n",
       "      <td>0.0000</td>\n",
       "      <td>1.0000</td>\n",
       "      <td>70.7000</td>\n",
       "      <td>151.6500</td>\n",
       "      <td>1.0000</td>\n",
       "      <td>0.0000</td>\n",
       "      <td>0.0000</td>\n",
       "      <td>1.0000</td>\n",
       "      <td>0.0000</td>\n",
       "      <td>0.0000</td>\n",
       "      <td>0.0000</td>\n",
       "      <td>0.0000</td>\n",
       "      <td>1.0000</td>\n",
       "      <td>0.0000</td>\n",
       "      <td>0.0000</td>\n",
       "      <td>0.0000</td>\n",
       "      <td>0.0000</td>\n",
       "      <td>0.0000</td>\n",
       "    </tr>\n",
       "  </tbody>\n",
       "</table>\n",
       "</div>"
      ],
      "text/plain": [
       "   gender  SeniorCitizen  Partner  Dependents  PhoneService  OnlineSecurity  \\\n",
       "0  0.0000         0.0000   1.0000      0.0000        0.0000          0.0000   \n",
       "1  1.0000         0.0000   0.0000      0.0000        1.0000          1.0000   \n",
       "2  1.0000         0.0000   0.0000      0.0000        1.0000          1.0000   \n",
       "3  1.0000         0.0000   0.0000      0.0000        0.0000          1.0000   \n",
       "4  0.0000         0.0000   0.0000      0.0000        1.0000          0.0000   \n",
       "\n",
       "   OnlineBackup  DeviceProtection  TechSupport  StreamingTV  StreamingMovies  \\\n",
       "0        1.0000            0.0000       0.0000       0.0000           0.0000   \n",
       "1        0.0000            1.0000       0.0000       0.0000           0.0000   \n",
       "2        1.0000            0.0000       0.0000       0.0000           0.0000   \n",
       "3        0.0000            1.0000       1.0000       0.0000           0.0000   \n",
       "4        0.0000            0.0000       0.0000       0.0000           0.0000   \n",
       "\n",
       "   PaperlessBilling  MonthlyCharges  TotalCharges  Churn  \\\n",
       "0            1.0000         29.8500       29.8500 0.0000   \n",
       "1            0.0000         56.9500     1889.5000 0.0000   \n",
       "2            1.0000         53.8500      108.1500 1.0000   \n",
       "3            0.0000         42.3000     1840.7500 0.0000   \n",
       "4            1.0000         70.7000      151.6500 1.0000   \n",
       "\n",
       "   MultipleLines_No phone service  MultipleLines_Yes  \\\n",
       "0                          1.0000             0.0000   \n",
       "1                          0.0000             0.0000   \n",
       "2                          0.0000             0.0000   \n",
       "3                          1.0000             0.0000   \n",
       "4                          0.0000             0.0000   \n",
       "\n",
       "   InternetService_Fiber optic  InternetService_No  Contract_One year  \\\n",
       "0                       0.0000              0.0000             0.0000   \n",
       "1                       0.0000              0.0000             1.0000   \n",
       "2                       0.0000              0.0000             0.0000   \n",
       "3                       0.0000              0.0000             1.0000   \n",
       "4                       1.0000              0.0000             0.0000   \n",
       "\n",
       "   Contract_Two year  PaymentMethod_Credit card (automatic)  \\\n",
       "0             0.0000                                 0.0000   \n",
       "1             0.0000                                 0.0000   \n",
       "2             0.0000                                 0.0000   \n",
       "3             0.0000                                 0.0000   \n",
       "4             0.0000                                 0.0000   \n",
       "\n",
       "   PaymentMethod_Electronic check  PaymentMethod_Mailed check  tenure_2  \\\n",
       "0                          1.0000                      0.0000    0.0000   \n",
       "1                          0.0000                      1.0000    0.0000   \n",
       "2                          0.0000                      1.0000    0.0000   \n",
       "3                          0.0000                      0.0000    0.0000   \n",
       "4                          1.0000                      0.0000    0.0000   \n",
       "\n",
       "   tenure_3  tenure_4  tenure_5  \n",
       "0    0.0000    0.0000    0.0000  \n",
       "1    1.0000    0.0000    0.0000  \n",
       "2    0.0000    0.0000    0.0000  \n",
       "3    1.0000    0.0000    0.0000  \n",
       "4    0.0000    0.0000    0.0000  "
      ]
     },
     "execution_count": 2,
     "metadata": {},
     "output_type": "execute_result"
    }
   ],
   "source": [
    "data = pd.read_csv('data/clean_data.csv')\n",
    "data.head()"
   ]
  },
  {
   "cell_type": "code",
   "execution_count": 3,
   "metadata": {},
   "outputs": [
    {
     "name": "stdout",
     "output_type": "stream",
     "text": [
      "<class 'pandas.core.frame.DataFrame'>\n",
      "RangeIndex: 7021 entries, 0 to 7020\n",
      "Data columns (total 28 columns):\n",
      " #   Column                                 Non-Null Count  Dtype  \n",
      "---  ------                                 --------------  -----  \n",
      " 0   gender                                 7021 non-null   float64\n",
      " 1   SeniorCitizen                          7021 non-null   float64\n",
      " 2   Partner                                7021 non-null   float64\n",
      " 3   Dependents                             7021 non-null   float64\n",
      " 4   PhoneService                           7021 non-null   float64\n",
      " 5   OnlineSecurity                         7021 non-null   float64\n",
      " 6   OnlineBackup                           7021 non-null   float64\n",
      " 7   DeviceProtection                       7021 non-null   float64\n",
      " 8   TechSupport                            7021 non-null   float64\n",
      " 9   StreamingTV                            7021 non-null   float64\n",
      " 10  StreamingMovies                        7021 non-null   float64\n",
      " 11  PaperlessBilling                       7021 non-null   float64\n",
      " 12  MonthlyCharges                         7021 non-null   float64\n",
      " 13  TotalCharges                           7021 non-null   float64\n",
      " 14  Churn                                  7021 non-null   float64\n",
      " 15  MultipleLines_No phone service         7021 non-null   float64\n",
      " 16  MultipleLines_Yes                      7021 non-null   float64\n",
      " 17  InternetService_Fiber optic            7021 non-null   float64\n",
      " 18  InternetService_No                     7021 non-null   float64\n",
      " 19  Contract_One year                      7021 non-null   float64\n",
      " 20  Contract_Two year                      7021 non-null   float64\n",
      " 21  PaymentMethod_Credit card (automatic)  7021 non-null   float64\n",
      " 22  PaymentMethod_Electronic check         7021 non-null   float64\n",
      " 23  PaymentMethod_Mailed check             7021 non-null   float64\n",
      " 24  tenure_2                               7021 non-null   float64\n",
      " 25  tenure_3                               7021 non-null   float64\n",
      " 26  tenure_4                               7021 non-null   float64\n",
      " 27  tenure_5                               7021 non-null   float64\n",
      "dtypes: float64(28)\n",
      "memory usage: 1.5 MB\n"
     ]
    }
   ],
   "source": [
    "data.info()"
   ]
  },
  {
   "cell_type": "markdown",
   "metadata": {},
   "source": [
    "# Train Test Split"
   ]
  },
  {
   "cell_type": "code",
   "execution_count": 7,
   "metadata": {},
   "outputs": [],
   "source": [
    "from sklearn.model_selection import train_test_split\n",
    "from sklearn.preprocessing import StandardScaler\n",
    "\n",
    "X = data.drop('Churn', axis=1)\n",
    "y = data.Churn\n",
    "\n",
    "X_train, X_test, y_train, y_test = train_test_split(X, y, test_size=0.3, random_state=42)"
   ]
  },
  {
   "cell_type": "markdown",
   "metadata": {},
   "source": [
    "## Base line model\n",
    "\n",
    "We an imbalanced problem here. If we predict that all our customers will not churn, we will have an accuracy of `73.84%`. So"
   ]
  },
  {
   "cell_type": "code",
   "execution_count": 35,
   "metadata": {},
   "outputs": [
    {
     "data": {
      "text/plain": [
       "0.7384907451352634"
      ]
     },
     "execution_count": 35,
     "metadata": {},
     "output_type": "execute_result"
    }
   ],
   "source": [
    "(y_test.value_counts()[0] / y_test.shape)[0]"
   ]
  },
  {
   "cell_type": "code",
   "execution_count": 8,
   "metadata": {},
   "outputs": [],
   "source": [
    "from sklearn.metrics import accuracy_score, confusion_matrix, precision_score, recall_score, f1_score\n",
    "\n",
    "def print_score(clf, X_train, y_train, X_test, y_test, train=True):\n",
    "    if train:\n",
    "        pred = clf.predict(X_train)\n",
    "        print(\"Train Result:\\n================================================\")\n",
    "        print(f\"Accuracy Score: {accuracy_score(y_train, pred) * 100:.2f}%\")\n",
    "        print(\"_______________________________________________\")\n",
    "        print(\"Classification Report:\", end='')\n",
    "        print(f\"\\tPrecision Score: {precision_score(y_train, pred) * 100:.2f}%\")\n",
    "        print(f\"\\t\\t\\tRecall Score: {recall_score(y_train, pred) * 100:.2f}%\")\n",
    "        print(f\"\\t\\t\\tF1 score: {f1_score(y_train, pred) * 100:.2f}%\")\n",
    "        print(\"_______________________________________________\")\n",
    "        print(f\"Confusion Matrix: \\n {confusion_matrix(y_train, pred)}\\n\")\n",
    "        \n",
    "    elif train==False:\n",
    "        pred = clf.predict(X_test)\n",
    "        print(\"Test Result:\\n================================================\")        \n",
    "        print(f\"Accuracy Score: {accuracy_score(y_test, pred) * 100:.2f}%\")\n",
    "        print(\"_______________________________________________\")\n",
    "        print(\"Classification Report:\", end='')\n",
    "        print(f\"\\tPrecision Score: {precision_score(y_test, pred) * 100:.2f}%\")\n",
    "        print(f\"\\t\\t\\tRecall Score: {recall_score(y_test, pred) * 100:.2f}%\")\n",
    "        print(f\"\\t\\t\\tF1 score: {f1_score(y_test, pred) * 100:.2f}%\")\n",
    "        print(\"_______________________________________________\")\n",
    "        print(f\"Confusion Matrix: \\n {confusion_matrix(y_test, pred)}\\n\")"
   ]
  },
  {
   "cell_type": "markdown",
   "metadata": {},
   "source": [
    "# 1. Logistic Regression"
   ]
  },
  {
   "cell_type": "code",
   "execution_count": 9,
   "metadata": {},
   "outputs": [
    {
     "name": "stdout",
     "output_type": "stream",
     "text": [
      "Train Result:\n",
      "================================================\n",
      "Accuracy Score: 80.10%\n",
      "_______________________________________________\n",
      "Classification Report:\tPrecision Score: 65.47%\n",
      "\t\t\tRecall Score: 53.14%\n",
      "\t\t\tF1 score: 58.66%\n",
      "_______________________________________________\n",
      "Confusion Matrix: \n",
      " [[3242  366]\n",
      " [ 612  694]]\n",
      "\n",
      "Test Result:\n",
      "================================================\n",
      "Accuracy Score: 79.02%\n",
      "_______________________________________________\n",
      "Classification Report:\tPrecision Score: 62.03%\n",
      "\t\t\tRecall Score: 51.00%\n",
      "\t\t\tF1 score: 55.98%\n",
      "_______________________________________________\n",
      "Confusion Matrix: \n",
      " [[1384  172]\n",
      " [ 270  281]]\n",
      "\n"
     ]
    }
   ],
   "source": [
    "from sklearn.linear_model import LogisticRegression\n",
    "from sklearn.preprocessing import MinMaxScaler\n",
    "\n",
    "scaler = MinMaxScaler()\n",
    "X_train_std = scaler.fit_transform(X_train)\n",
    "X_test_std = scaler.transform(X_test)\n",
    "\n",
    "lr_classifier = LogisticRegression(solver='liblinear', penalty='l1')\n",
    "lr_classifier.fit(X_train, y_train)\n",
    "\n",
    "print_score(lr_classifier, X_train_std, y_train, X_test_std, y_test, train=True)\n",
    "print_score(lr_classifier, X_train_std, y_train, X_test_std, y_test, train=False)"
   ]
  },
  {
   "cell_type": "markdown",
   "metadata": {},
   "source": [
    "## Cross Validation Score for Logistic Regression"
   ]
  },
  {
   "cell_type": "code",
   "execution_count": 10,
   "metadata": {},
   "outputs": [
    {
     "name": "stdout",
     "output_type": "stream",
     "text": [
      "[0.56986301 0.57220708 0.57904412]\n",
      "Logistic Accuracy: 57.37% +/- (0.39)\n"
     ]
    }
   ],
   "source": [
    "from sklearn.model_selection import cross_val_score\n",
    "\n",
    "X_std = scaler.transform(X)\n",
    "\n",
    "scores = cross_val_score(lr_classifier, X_std, y, cv=3, scoring='f1')\n",
    "print(scores)\n",
    "print(f\"Logistic Accuracy: {scores.mean() * 100:.2f}% +/- ({scores.std() * 100:.2f})\")"
   ]
  },
  {
   "cell_type": "code",
   "execution_count": 11,
   "metadata": {},
   "outputs": [
    {
     "data": {
      "image/png": "[encoded data removed]",
      "text/plain": [
       "<Figure size 432x288 with 2 Axes>"
      ]
     },
     "metadata": {
      "needs_background": "light"
     },
     "output_type": "display_data"
    }
   ],
   "source": [
    "from sklearn.metrics import plot_confusion_matrix, plot_roc_curve\n",
    "\n",
    "disp = plot_confusion_matrix(lr_classifier, X_test, y_test, \n",
    "                             cmap='Blues', values_format='d', \n",
    "                             display_labels=['Stay', 'Churn'])"
   ]
  },
  {
   "cell_type": "code",
   "execution_count": 12,
   "metadata": {},
   "outputs": [
    {
     "data": {
      "image/png": "[encoded data removed]",
      "text/plain": [
       "<Figure size 432x288 with 1 Axes>"
      ]
     },
     "metadata": {
      "needs_background": "light"
     },
     "output_type": "display_data"
    }
   ],
   "source": [
    "disp = plot_roc_curve(lr_classifier, X_test, y_test)"
   ]
  },
  {
   "cell_type": "markdown",
   "metadata": {},
   "source": [
    "# 2. Random Forest Classifier"
   ]
  },
  {
   "cell_type": "code",
   "execution_count": 13,
   "metadata": {},
   "outputs": [
    {
     "name": "stdout",
     "output_type": "stream",
     "text": [
      "Staying Rate: 73.42%\n",
      "Churning Rate: 26.58%\n"
     ]
    }
   ],
   "source": [
    "stay = (y_train.value_counts()[0] / y_train.shape)[0]\n",
    "churn = (y_train.value_counts()[1] / y_train.shape)[0]\n",
    "\n",
    "print(f\"Staying Rate: {stay * 100:.2f}%\")\n",
    "print(f\"Churning Rate: {churn * 100 :.2f}%\")"
   ]
  },
  {
   "cell_type": "code",
   "execution_count": 14,
   "metadata": {},
   "outputs": [
    {
     "name": "stdout",
     "output_type": "stream",
     "text": [
      "Train Result:\n",
      "================================================\n",
      "Accuracy Score: 99.72%\n",
      "_______________________________________________\n",
      "Classification Report:\tPrecision Score: 99.39%\n",
      "\t\t\tRecall Score: 99.54%\n",
      "\t\t\tF1 score: 99.46%\n",
      "_______________________________________________\n",
      "Confusion Matrix: \n",
      " [[3600    8]\n",
      " [   6 1300]]\n",
      "\n",
      "Test Result:\n",
      "================================================\n",
      "Accuracy Score: 79.16%\n",
      "_______________________________________________\n",
      "Classification Report:\tPrecision Score: 63.21%\n",
      "\t\t\tRecall Score: 48.64%\n",
      "\t\t\tF1 score: 54.97%\n",
      "_______________________________________________\n",
      "Confusion Matrix: \n",
      " [[1400  156]\n",
      " [ 283  268]]\n",
      "\n"
     ]
    }
   ],
   "source": [
    "from sklearn.ensemble import RandomForestClassifier\n",
    "\n",
    "rand_forest = RandomForestClassifier(n_estimators=1000)\n",
    "rand_forest.fit(X_train, y_train)\n",
    "\n",
    "print_score(rand_forest, X_train, y_train, X_test, y_test, train=True)\n",
    "print_score(rand_forest, X_train, y_train, X_test, y_test, train=False)"
   ]
  },
  {
   "cell_type": "code",
   "execution_count": 15,
   "metadata": {},
   "outputs": [],
   "source": [
    "from sklearn.model_selection import GridSearchCV\n",
    "\n",
    "rf_clf = RandomForestClassifier(n_estimators=100)\n",
    "\n",
    "param_grid = {'n_estimators':[550, 600, 650],\n",
    "              'max_depth':[3, 5, 7, 10, 15, None], \n",
    "              'min_samples_split':[2, 3, 10], \n",
    "              'min_samples_leaf':[1, 3, 5, 7, 10], \n",
    "              'criterion':[\"gini\", \"entropy\"]}\n",
    "\n",
    "rf_grid_cv = GridSearchCV(rf_clf, param_grid, scoring=\"f1\", n_jobs=-1, verbose=1, cv=3)\n",
    "# rf_grid_cv.fit(X_train, y_train)"
   ]
  },
  {
   "cell_type": "code",
   "execution_count": 16,
   "metadata": {},
   "outputs": [],
   "source": [
    "# rf_grid_cv.best_estimator_"
   ]
  },
  {
   "cell_type": "code",
   "execution_count": 17,
   "metadata": {},
   "outputs": [
    {
     "name": "stdout",
     "output_type": "stream",
     "text": [
      "Train Result:\n",
      "================================================\n",
      "Accuracy Score: 84.64%\n",
      "_______________________________________________\n",
      "Classification Report:\tPrecision Score: 76.98%\n",
      "\t\t\tRecall Score: 60.18%\n",
      "\t\t\tF1 score: 67.55%\n",
      "_______________________________________________\n",
      "Confusion Matrix: \n",
      " [[3373  235]\n",
      " [ 520  786]]\n",
      "\n",
      "Test Result:\n",
      "================================================\n",
      "Accuracy Score: 80.11%\n",
      "_______________________________________________\n",
      "Classification Report:\tPrecision Score: 65.87%\n",
      "\t\t\tRecall Score: 49.73%\n",
      "\t\t\tF1 score: 56.67%\n",
      "_______________________________________________\n",
      "Confusion Matrix: \n",
      " [[1414  142]\n",
      " [ 277  274]]\n",
      "\n"
     ]
    }
   ],
   "source": [
    "rf_clf = RandomForestClassifier(criterion='entropy',\n",
    "                                max_depth=10,\n",
    "                                min_samples_leaf=3, \n",
    "                                min_samples_split=3,\n",
    "                                n_estimators=600)\n",
    "\n",
    "rf_clf.fit(X_train, y_train)\n",
    "print_score(rf_clf, X_train, y_train, X_test, y_test, train=True)\n",
    "print_score(rf_clf, X_train, y_train, X_test, y_test, train=False)"
   ]
  },
  {
   "cell_type": "markdown",
   "metadata": {},
   "source": [
    "## Cross Validation Score for Random Forest Classifier"
   ]
  },
  {
   "cell_type": "code",
   "execution_count": 18,
   "metadata": {},
   "outputs": [
    {
     "name": "stdout",
     "output_type": "stream",
     "text": [
      "[0.5738476  0.56830601 0.56716418]\n",
      "Random Forest F1_score: 56.98% +/- (0.29)\n"
     ]
    }
   ],
   "source": [
    "scores = cross_val_score(rf_clf, X, y, cv=3, scoring='f1')\n",
    "print(scores)\n",
    "print(f\"Random Forest F1_score: {scores.mean() * 100:.2f}% +/- ({scores.std() * 100:.2f})\")"
   ]
  },
  {
   "cell_type": "code",
   "execution_count": 19,
   "metadata": {},
   "outputs": [
    {
     "data": {
      "image/png": "[encoded data removed]",
      "text/plain": [
       "<Figure size 432x288 with 2 Axes>"
      ]
     },
     "metadata": {
      "needs_background": "light"
     },
     "output_type": "display_data"
    }
   ],
   "source": [
    "disp = plot_confusion_matrix(rf_clf, X_test, y_test, \n",
    "                             cmap='Blues', values_format='d', \n",
    "                             display_labels=['Stay', 'Churn'])"
   ]
  },
  {
   "cell_type": "code",
   "execution_count": 20,
   "metadata": {},
   "outputs": [
    {
     "data": {
      "text/plain": [
       "<sklearn.metrics._plot.roc_curve.RocCurveDisplay at 0x17ca1b1ff98>"
      ]
     },
     "execution_count": 20,
     "metadata": {},
     "output_type": "execute_result"
    },
    {
     "data": {
      "image/png": "[encoded data removed]",
      "text/plain": [
       "<Figure size 432x288 with 1 Axes>"
      ]
     },
     "metadata": {
      "needs_background": "light"
     },
     "output_type": "display_data"
    }
   ],
   "source": [
    "disp = plot_roc_curve(lr_classifier, X_test, y_test)\n",
    "plot_roc_curve(rf_clf, X_test, y_test, ax=disp.ax_)"
   ]
  },
  {
   "cell_type": "markdown",
   "metadata": {},
   "source": [
    "# 3. Support Vector Machine"
   ]
  },
  {
   "cell_type": "code",
   "execution_count": 21,
   "metadata": {},
   "outputs": [
    {
     "name": "stdout",
     "output_type": "stream",
     "text": [
      "Train Result:\n",
      "================================================\n",
      "Accuracy Score: 82.36%\n",
      "_______________________________________________\n",
      "Classification Report:\tPrecision Score: 73.68%\n",
      "\t\t\tRecall Score: 52.30%\n",
      "\t\t\tF1 score: 61.17%\n",
      "_______________________________________________\n",
      "Confusion Matrix: \n",
      " [[3364  244]\n",
      " [ 623  683]]\n",
      "\n",
      "Test Result:\n",
      "================================================\n",
      "Accuracy Score: 79.64%\n",
      "_______________________________________________\n",
      "Classification Report:\tPrecision Score: 66.05%\n",
      "\t\t\tRecall Score: 45.55%\n",
      "\t\t\tF1 score: 53.92%\n",
      "_______________________________________________\n",
      "Confusion Matrix: \n",
      " [[1427  129]\n",
      " [ 300  251]]\n",
      "\n"
     ]
    }
   ],
   "source": [
    "from sklearn.svm import SVC\n",
    "\n",
    "svc = SVC(kernel='rbf')\n",
    "svc.fit(X_train_std, y_train)\n",
    "\n",
    "print_score(svc, X_train_std, y_train, X_test_std, y_test, train=True)\n",
    "print_score(svc, X_train_std, y_train, X_test_std, y_test, train=False)"
   ]
  },
  {
   "cell_type": "code",
   "execution_count": 22,
   "metadata": {},
   "outputs": [],
   "source": [
    "param_grid = {\n",
    "    'C':[0.001, 0.01, 0.1, 1, 10, 100],\n",
    "    'gamma':[1, 0.1, 0.01, 0.001],\n",
    "    'kernel':['rbf']\n",
    "}\n",
    "\n",
    "grid_cv = GridSearchCV(SVC(), param_grid, verbose=1, cv=5, n_jobs=-1)\n",
    "# grid_cv.fit(X_train_std, y_train)"
   ]
  },
  {
   "cell_type": "code",
   "execution_count": 23,
   "metadata": {},
   "outputs": [],
   "source": [
    "# grid_cv.best_estimator_"
   ]
  },
  {
   "cell_type": "code",
   "execution_count": 24,
   "metadata": {},
   "outputs": [
    {
     "name": "stdout",
     "output_type": "stream",
     "text": [
      "Train Result:\n",
      "================================================\n",
      "Accuracy Score: 80.40%\n",
      "_______________________________________________\n",
      "Classification Report:\tPrecision Score: 70.06%\n",
      "\t\t\tRecall Score: 45.87%\n",
      "\t\t\tF1 score: 55.44%\n",
      "_______________________________________________\n",
      "Confusion Matrix: \n",
      " [[3352  256]\n",
      " [ 707  599]]\n",
      "\n",
      "Test Result:\n",
      "================================================\n",
      "Accuracy Score: 79.92%\n",
      "_______________________________________________\n",
      "Classification Report:\tPrecision Score: 67.39%\n",
      "\t\t\tRecall Score: 45.01%\n",
      "\t\t\tF1 score: 53.97%\n",
      "_______________________________________________\n",
      "Confusion Matrix: \n",
      " [[1436  120]\n",
      " [ 303  248]]\n",
      "\n"
     ]
    }
   ],
   "source": [
    "svc = SVC(C=10, gamma=0.01, kernel='rbf')\n",
    "svc.fit(X_train_std, y_train)\n",
    "\n",
    "print_score(svc, X_train_std, y_train, X_test_std, y_test, train=True)\n",
    "print_score(svc, X_train_std, y_train, X_test_std, y_test, train=False)"
   ]
  },
  {
   "cell_type": "code",
   "execution_count": 25,
   "metadata": {},
   "outputs": [
    {
     "data": {
      "image/png": "[encoded data removed]",
      "text/plain": [
       "<Figure size 432x288 with 2 Axes>"
      ]
     },
     "metadata": {
      "needs_background": "light"
     },
     "output_type": "display_data"
    }
   ],
   "source": [
    "disp = plot_confusion_matrix(svc, X_test_std, y_test, \n",
    "                             cmap='Blues', values_format='d', \n",
    "                             display_labels=['Stay', 'Churn'])"
   ]
  },
  {
   "cell_type": "code",
   "execution_count": 26,
   "metadata": {},
   "outputs": [
    {
     "data": {
      "text/plain": [
       "<sklearn.metrics._plot.roc_curve.RocCurveDisplay at 0x17ca2c1cc18>"
      ]
     },
     "execution_count": 26,
     "metadata": {},
     "output_type": "execute_result"
    },
    {
     "data": {
      "text/plain": [
       "<Figure size 864x576 with 0 Axes>"
      ]
     },
     "metadata": {},
     "output_type": "display_data"
    },
    {
     "data": {
      "image/png": "[encoded data removed]",
      "text/plain": [
       "<Figure size 432x288 with 1 Axes>"
      ]
     },
     "metadata": {
      "needs_background": "light"
     },
     "output_type": "display_data"
    }
   ],
   "source": [
    "plt.figure(figsize=(12, 8))\n",
    "disp = plot_roc_curve(lr_classifier, X_test, y_test)\n",
    "plot_roc_curve(rf_clf, X_test, y_test, ax=disp.ax_)\n",
    "plot_roc_curve(svc, X_test_std, y_test, ax=disp.ax_)"
   ]
  },
  {
   "cell_type": "markdown",
   "metadata": {},
   "source": [
    "# 4. XGBoost Classifier"
   ]
  },
  {
   "cell_type": "code",
   "execution_count": 27,
   "metadata": {},
   "outputs": [
    {
     "name": "stdout",
     "output_type": "stream",
     "text": [
      "Train Result:\n",
      "================================================\n",
      "Accuracy Score: 82.11%\n",
      "_______________________________________________\n",
      "Classification Report:\tPrecision Score: 70.79%\n",
      "\t\t\tRecall Score: 55.67%\n",
      "\t\t\tF1 score: 62.32%\n",
      "_______________________________________________\n",
      "Confusion Matrix: \n",
      " [[3308  300]\n",
      " [ 579  727]]\n",
      "\n",
      "Test Result:\n",
      "================================================\n",
      "Accuracy Score: 79.78%\n",
      "_______________________________________________\n",
      "Classification Report:\tPrecision Score: 64.78%\n",
      "\t\t\tRecall Score: 49.73%\n",
      "\t\t\tF1 score: 56.26%\n",
      "_______________________________________________\n",
      "Confusion Matrix: \n",
      " [[1407  149]\n",
      " [ 277  274]]\n",
      "\n"
     ]
    }
   ],
   "source": [
    "from xgboost import XGBClassifier\n",
    "\n",
    "xgb_clf = XGBClassifier()\n",
    "xgb_clf.fit(X_train, y_train)\n",
    "\n",
    "print_score(xgb_clf, X_train, y_train, X_test, y_test, train=True)\n",
    "print_score(xgb_clf, X_train, y_train, X_test, y_test, train=False)"
   ]
  },
  {
   "cell_type": "code",
   "execution_count": 28,
   "metadata": {},
   "outputs": [
    {
     "name": "stdout",
     "output_type": "stream",
     "text": [
      "Fitting 3 folds for each of 1680 candidates, totalling 5040 fits\n"
     ]
    },
    {
     "name": "stderr",
     "output_type": "stream",
     "text": [
      "[Parallel(n_jobs=-1)]: Using backend LokyBackend with 4 concurrent workers.\n",
      "[Parallel(n_jobs=-1)]: Done  42 tasks      | elapsed:   12.8s\n",
      "[Parallel(n_jobs=-1)]: Done 192 tasks      | elapsed:  1.3min\n",
      "[Parallel(n_jobs=-1)]: Done 442 tasks      | elapsed:  3.3min\n",
      "[Parallel(n_jobs=-1)]: Done 792 tasks      | elapsed:  5.9min\n",
      "[Parallel(n_jobs=-1)]: Done 1242 tasks      | elapsed:  9.5min\n",
      "[Parallel(n_jobs=-1)]: Done 1792 tasks      | elapsed: 13.6min\n",
      "[Parallel(n_jobs=-1)]: Done 2442 tasks      | elapsed: 18.8min\n",
      "[Parallel(n_jobs=-1)]: Done 3192 tasks      | elapsed: 24.6min\n",
      "[Parallel(n_jobs=-1)]: Done 4042 tasks      | elapsed: 31.2min\n",
      "[Parallel(n_jobs=-1)]: Done 4992 tasks      | elapsed: 38.5min\n",
      "[Parallel(n_jobs=-1)]: Done 5040 out of 5040 | elapsed: 39.1min finished\n"
     ]
    },
    {
     "data": {
      "text/plain": [
       "GridSearchCV(cv=3, error_score=nan,\n",
       "             estimator=XGBClassifier(base_score=0.5, booster='gbtree',\n",
       "                                     colsample_bylevel=1, colsample_bynode=1,\n",
       "                                     colsample_bytree=1, gamma=0,\n",
       "                                     learning_rate=0.1, max_delta_step=0,\n",
       "                                     max_depth=3, min_child_weight=1,\n",
       "                                     missing=None, n_estimators=100, n_jobs=1,\n",
       "                                     nthread=None, objective='binary:logistic',\n",
       "                                     random_state=0, reg_alpha=0, reg_lambda=1,\n",
       "                                     scale_pos_weight=1, seed=None, silent=None,\n",
       "                                     subsample=1, verbosity=1),\n",
       "             iid='deprecated', n_jobs=-1,\n",
       "             param_grid={'base_score': [0.1, 0.15, 0.2, 0.25, 0.3, 0.4, 0.5],\n",
       "                         'learning_rate': [0.09, 0.1, 0.2],\n",
       "                         'max_depth': [2, 3, 5, 10, 15],\n",
       "                         'min_child_weight': [1, 2, 3, 4],\n",
       "                         'n_estimators': [50, 75, 90, 100]},\n",
       "             pre_dispatch='2*n_jobs', refit=True, return_train_score=False,\n",
       "             scoring='f1', verbose=1)"
      ]
     },
     "execution_count": 28,
     "metadata": {},
     "output_type": "execute_result"
    }
   ],
   "source": [
    "hyperparameter_grid = {'n_estimators': [50, 75, 90, 100], \n",
    "                       'max_depth': [2, 3, 5, 10, 15],\n",
    "                       'learning_rate' : [0.09, 0.1, 0.2], \n",
    "                       'min_child_weight' : [1, 2, 3, 4], \n",
    "                       'base_score' : [0.1, 0.15, 0.2, 0.25, 0.3, 0.4, 0.5]\n",
    "                      }\n",
    "\n",
    "xgb_clf = XGBClassifier()\n",
    "xgb_cv = GridSearchCV(estimator=xgb_clf, param_grid=hyperparameter_grid, cv=3, \n",
    "                      scoring='f1', n_jobs =-1, verbose=1)\n",
    "\n",
    "xgb_cv.fit(X_train, y_train)"
   ]
  },
  {
   "cell_type": "code",
   "execution_count": 29,
   "metadata": {},
   "outputs": [
    {
     "data": {
      "text/plain": [
       "XGBClassifier(base_score=0.25, booster='gbtree', colsample_bylevel=1,\n",
       "              colsample_bynode=1, colsample_bytree=1, gamma=0,\n",
       "              learning_rate=0.2, max_delta_step=0, max_depth=2,\n",
       "              min_child_weight=1, missing=None, n_estimators=100, n_jobs=1,\n",
       "              nthread=None, objective='binary:logistic', random_state=0,\n",
       "              reg_alpha=0, reg_lambda=1, scale_pos_weight=1, seed=None,\n",
       "              silent=None, subsample=1, verbosity=1)"
      ]
     },
     "execution_count": 29,
     "metadata": {},
     "output_type": "execute_result"
    }
   ],
   "source": [
    "xgb_cv.best_estimator_"
   ]
  },
  {
   "cell_type": "code",
   "execution_count": 30,
   "metadata": {},
   "outputs": [
    {
     "name": "stdout",
     "output_type": "stream",
     "text": [
      "Train Result:\n",
      "================================================\n",
      "Accuracy Score: 82.28%\n",
      "_______________________________________________\n",
      "Classification Report:\tPrecision Score: 71.26%\n",
      "\t\t\tRecall Score: 55.82%\n",
      "\t\t\tF1 score: 62.60%\n",
      "_______________________________________________\n",
      "Confusion Matrix: \n",
      " [[3314  294]\n",
      " [ 577  729]]\n",
      "\n",
      "Test Result:\n",
      "================================================\n",
      "Accuracy Score: 79.59%\n",
      "_______________________________________________\n",
      "Classification Report:\tPrecision Score: 64.24%\n",
      "\t\t\tRecall Score: 49.55%\n",
      "\t\t\tF1 score: 55.94%\n",
      "_______________________________________________\n",
      "Confusion Matrix: \n",
      " [[1404  152]\n",
      " [ 278  273]]\n",
      "\n"
     ]
    }
   ],
   "source": [
    "xgb_clf = XGBClassifier(base_score=0.25, \n",
    "                    learning_rate=0.2, \n",
    "                    max_depth=2,\n",
    "                    min_child_weight=1, \n",
    "                    n_estimators=100)\n",
    "xgb_clf.fit(X_train, y_train)\n",
    "\n",
    "print_score(xgb_clf, X_train, y_train, X_test, y_test, train=True)\n",
    "print_score(xgb_clf, X_train, y_train, X_test, y_test, train=False)"
   ]
  },
  {
   "cell_type": "markdown",
   "metadata": {},
   "source": [
    "## XGBoost cross validations score"
   ]
  },
  {
   "cell_type": "code",
   "execution_count": 31,
   "metadata": {},
   "outputs": [
    {
     "name": "stdout",
     "output_type": "stream",
     "text": [
      "[0.59326661 0.59180036 0.57402361]\n",
      "XGBoost F1_score: 58.64% +/- (0.87)\n"
     ]
    }
   ],
   "source": [
    "scores = cross_val_score(xgb_clf, X, y, cv=3, scoring='f1')\n",
    "print(scores)\n",
    "print(f\"XGBoost F1_score: {scores.mean() * 100:.2f}% +/- ({scores.std() * 100:.2f})\")"
   ]
  },
  {
   "cell_type": "code",
   "execution_count": 32,
   "metadata": {},
   "outputs": [
    {
     "data": {
      "text/plain": [
       "<sklearn.metrics._plot.roc_curve.RocCurveDisplay at 0x17ca4d40470>"
      ]
     },
     "execution_count": 32,
     "metadata": {},
     "output_type": "execute_result"
    },
    {
     "data": {
      "text/plain": [
       "<Figure size 864x576 with 0 Axes>"
      ]
     },
     "metadata": {},
     "output_type": "display_data"
    },
    {
     "data": {
      "image/png": "[encoded data removed]",
      "text/plain": [
       "<Figure size 432x288 with 1 Axes>"
      ]
     },
     "metadata": {
      "needs_background": "light"
     },
     "output_type": "display_data"
    }
   ],
   "source": [
    "plt.figure(figsize=(12, 8))\n",
    "disp = plot_roc_curve(lr_classifier, X_test, y_test)\n",
    "plot_roc_curve(rf_clf, X_test, y_test, ax=disp.ax_)\n",
    "plot_roc_curve(svc, X_test_std, y_test, ax=disp.ax_)\n",
    "plot_roc_curve(xgb_clf, X_test, y_test, ax=disp.ax_)"
   ]
  },
  {
   "cell_type": "code",
   "execution_count": 34,
   "metadata": {},
   "outputs": [
    {
     "data": {
      "text/plain": [
       "0.7384907451352634"
      ]
     },
     "execution_count": 34,
     "metadata": {},
     "output_type": "execute_result"
    }
   ],
   "source": []
  },
  {
   "cell_type": "code",
   "execution_count": null,
   "metadata": {},
   "outputs": [],
   "source": []
  }
 ],
 "metadata": {
  "kernelspec": {
   "display_name": "Python 3",
   "language": "python",
   "name": "python3"
  },
  "language_info": {
   "codemirror_mode": {
    "name": "ipython",
    "version": 3
   },
   "file_extension": ".py",
   "mimetype": "text/x-python",
   "name": "python",
   "nbconvert_exporter": "python",
   "pygments_lexer": "ipython3",
   "version": "3.7.3"
  }
 },
 "nbformat": 4,
 "nbformat_minor": 4
}
