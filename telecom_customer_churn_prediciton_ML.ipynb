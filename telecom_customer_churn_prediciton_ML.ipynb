{
 "cells": [
  {
   "cell_type": "markdown",
   "metadata": {},
   "source": [
    "# Data Preprocessing & Models Building"
   ]
  },
  {
   "cell_type": "code",
   "execution_count": 1,
   "metadata": {},
   "outputs": [],
   "source": [
    "import pandas as pd\n",
    "import numpy as np\n",
    "import matplotlib.pyplot as plt\n",
    "import seaborn as sns\n",
    "\n",
    "%matplotlib inline\n",
    "# plt.style.use('fivethirtyeight')\n",
    "pd.set_option('display.max_columns', 50)\n",
    "pd.set_option('display.max_rows', 50)\n",
    "pd.set_option('display.float', '{:.4f}'.format)"
   ]
  },
  {
   "cell_type": "code",
   "execution_count": 2,
   "metadata": {},
   "outputs": [
    {
     "data": {
      "text/html": [
       "<div>\n",
       "<style scoped>\n",
       "    .dataframe tbody tr th:only-of-type {\n",
       "        vertical-align: middle;\n",
       "    }\n",
       "\n",
       "    .dataframe tbody tr th {\n",
       "        vertical-align: top;\n",
       "    }\n",
       "\n",
       "    .dataframe thead th {\n",
       "        text-align: right;\n",
       "    }\n",
       "</style>\n",
       "<table border=\"1\" class=\"dataframe\">\n",
       "  <thead>\n",
       "    <tr style=\"text-align: right;\">\n",
       "      <th></th>\n",
       "      <th>gender</th>\n",
       "      <th>SeniorCitizen</th>\n",
       "      <th>Partner</th>\n",
       "      <th>Dependents</th>\n",
       "      <th>PhoneService</th>\n",
       "      <th>OnlineSecurity</th>\n",
       "      <th>OnlineBackup</th>\n",
       "      <th>DeviceProtection</th>\n",
       "      <th>TechSupport</th>\n",
       "      <th>StreamingTV</th>\n",
       "      <th>StreamingMovies</th>\n",
       "      <th>PaperlessBilling</th>\n",
       "      <th>MonthlyCharges</th>\n",
       "      <th>TotalCharges</th>\n",
       "      <th>Churn</th>\n",
       "      <th>MultipleLines_No phone service</th>\n",
       "      <th>MultipleLines_Yes</th>\n",
       "      <th>InternetService_Fiber optic</th>\n",
       "      <th>InternetService_No</th>\n",
       "      <th>Contract_One year</th>\n",
       "      <th>Contract_Two year</th>\n",
       "      <th>PaymentMethod_Credit card (automatic)</th>\n",
       "      <th>PaymentMethod_Electronic check</th>\n",
       "      <th>PaymentMethod_Mailed check</th>\n",
       "      <th>tenure_2</th>\n",
       "      <th>tenure_3</th>\n",
       "      <th>tenure_4</th>\n",
       "      <th>tenure_5</th>\n",
       "    </tr>\n",
       "  </thead>\n",
       "  <tbody>\n",
       "    <tr>\n",
       "      <th>0</th>\n",
       "      <td>0.0000</td>\n",
       "      <td>0.0000</td>\n",
       "      <td>1.0000</td>\n",
       "      <td>0.0000</td>\n",
       "      <td>0.0000</td>\n",
       "      <td>0.0000</td>\n",
       "      <td>1.0000</td>\n",
       "      <td>0.0000</td>\n",
       "      <td>0.0000</td>\n",
       "      <td>0.0000</td>\n",
       "      <td>0.0000</td>\n",
       "      <td>1.0000</td>\n",
       "      <td>29.8500</td>\n",
       "      <td>29.8500</td>\n",
       "      <td>0.0000</td>\n",
       "      <td>1.0000</td>\n",
       "      <td>0.0000</td>\n",
       "      <td>0.0000</td>\n",
       "      <td>0.0000</td>\n",
       "      <td>0.0000</td>\n",
       "      <td>0.0000</td>\n",
       "      <td>0.0000</td>\n",
       "      <td>1.0000</td>\n",
       "      <td>0.0000</td>\n",
       "      <td>0.0000</td>\n",
       "      <td>0.0000</td>\n",
       "      <td>0.0000</td>\n",
       "      <td>0.0000</td>\n",
       "    </tr>\n",
       "    <tr>\n",
       "      <th>1</th>\n",
       "      <td>1.0000</td>\n",
       "      <td>0.0000</td>\n",
       "      <td>0.0000</td>\n",
       "      <td>0.0000</td>\n",
       "      <td>1.0000</td>\n",
       "      <td>1.0000</td>\n",
       "      <td>0.0000</td>\n",
       "      <td>1.0000</td>\n",
       "      <td>0.0000</td>\n",
       "      <td>0.0000</td>\n",
       "      <td>0.0000</td>\n",
       "      <td>0.0000</td>\n",
       "      <td>56.9500</td>\n",
       "      <td>1889.5000</td>\n",
       "      <td>0.0000</td>\n",
       "      <td>0.0000</td>\n",
       "      <td>0.0000</td>\n",
       "      <td>0.0000</td>\n",
       "      <td>0.0000</td>\n",
       "      <td>1.0000</td>\n",
       "      <td>0.0000</td>\n",
       "      <td>0.0000</td>\n",
       "      <td>0.0000</td>\n",
       "      <td>1.0000</td>\n",
       "      <td>0.0000</td>\n",
       "      <td>1.0000</td>\n",
       "      <td>0.0000</td>\n",
       "      <td>0.0000</td>\n",
       "    </tr>\n",
       "    <tr>\n",
       "      <th>2</th>\n",
       "      <td>1.0000</td>\n",
       "      <td>0.0000</td>\n",
       "      <td>0.0000</td>\n",
       "      <td>0.0000</td>\n",
       "      <td>1.0000</td>\n",
       "      <td>1.0000</td>\n",
       "      <td>1.0000</td>\n",
       "      <td>0.0000</td>\n",
       "      <td>0.0000</td>\n",
       "      <td>0.0000</td>\n",
       "      <td>0.0000</td>\n",
       "      <td>1.0000</td>\n",
       "      <td>53.8500</td>\n",
       "      <td>108.1500</td>\n",
       "      <td>1.0000</td>\n",
       "      <td>0.0000</td>\n",
       "      <td>0.0000</td>\n",
       "      <td>0.0000</td>\n",
       "      <td>0.0000</td>\n",
       "      <td>0.0000</td>\n",
       "      <td>0.0000</td>\n",
       "      <td>0.0000</td>\n",
       "      <td>0.0000</td>\n",
       "      <td>1.0000</td>\n",
       "      <td>0.0000</td>\n",
       "      <td>0.0000</td>\n",
       "      <td>0.0000</td>\n",
       "      <td>0.0000</td>\n",
       "    </tr>\n",
       "    <tr>\n",
       "      <th>3</th>\n",
       "      <td>1.0000</td>\n",
       "      <td>0.0000</td>\n",
       "      <td>0.0000</td>\n",
       "      <td>0.0000</td>\n",
       "      <td>0.0000</td>\n",
       "      <td>1.0000</td>\n",
       "      <td>0.0000</td>\n",
       "      <td>1.0000</td>\n",
       "      <td>1.0000</td>\n",
       "      <td>0.0000</td>\n",
       "      <td>0.0000</td>\n",
       "      <td>0.0000</td>\n",
       "      <td>42.3000</td>\n",
       "      <td>1840.7500</td>\n",
       "      <td>0.0000</td>\n",
       "      <td>1.0000</td>\n",
       "      <td>0.0000</td>\n",
       "      <td>0.0000</td>\n",
       "      <td>0.0000</td>\n",
       "      <td>1.0000</td>\n",
       "      <td>0.0000</td>\n",
       "      <td>0.0000</td>\n",
       "      <td>0.0000</td>\n",
       "      <td>0.0000</td>\n",
       "      <td>0.0000</td>\n",
       "      <td>1.0000</td>\n",
       "      <td>0.0000</td>\n",
       "      <td>0.0000</td>\n",
       "    </tr>\n",
       "    <tr>\n",
       "      <th>4</th>\n",
       "      <td>0.0000</td>\n",
       "      <td>0.0000</td>\n",
       "      <td>0.0000</td>\n",
       "      <td>0.0000</td>\n",
       "      <td>1.0000</td>\n",
       "      <td>0.0000</td>\n",
       "      <td>0.0000</td>\n",
       "      <td>0.0000</td>\n",
       "      <td>0.0000</td>\n",
       "      <td>0.0000</td>\n",
       "      <td>0.0000</td>\n",
       "      <td>1.0000</td>\n",
       "      <td>70.7000</td>\n",
       "      <td>151.6500</td>\n",
       "      <td>1.0000</td>\n",
       "      <td>0.0000</td>\n",
       "      <td>0.0000</td>\n",
       "      <td>1.0000</td>\n",
       "      <td>0.0000</td>\n",
       "      <td>0.0000</td>\n",
       "      <td>0.0000</td>\n",
       "      <td>0.0000</td>\n",
       "      <td>1.0000</td>\n",
       "      <td>0.0000</td>\n",
       "      <td>0.0000</td>\n",
       "      <td>0.0000</td>\n",
       "      <td>0.0000</td>\n",
       "      <td>0.0000</td>\n",
       "    </tr>\n",
       "  </tbody>\n",
       "</table>\n",
       "</div>"
      ],
      "text/plain": [
       "   gender  SeniorCitizen  Partner  Dependents  PhoneService  OnlineSecurity  \\\n",
       "0  0.0000         0.0000   1.0000      0.0000        0.0000          0.0000   \n",
       "1  1.0000         0.0000   0.0000      0.0000        1.0000          1.0000   \n",
       "2  1.0000         0.0000   0.0000      0.0000        1.0000          1.0000   \n",
       "3  1.0000         0.0000   0.0000      0.0000        0.0000          1.0000   \n",
       "4  0.0000         0.0000   0.0000      0.0000        1.0000          0.0000   \n",
       "\n",
       "   OnlineBackup  DeviceProtection  TechSupport  StreamingTV  StreamingMovies  \\\n",
       "0        1.0000            0.0000       0.0000       0.0000           0.0000   \n",
       "1        0.0000            1.0000       0.0000       0.0000           0.0000   \n",
       "2        1.0000            0.0000       0.0000       0.0000           0.0000   \n",
       "3        0.0000            1.0000       1.0000       0.0000           0.0000   \n",
       "4        0.0000            0.0000       0.0000       0.0000           0.0000   \n",
       "\n",
       "   PaperlessBilling  MonthlyCharges  TotalCharges  Churn  \\\n",
       "0            1.0000         29.8500       29.8500 0.0000   \n",
       "1            0.0000         56.9500     1889.5000 0.0000   \n",
       "2            1.0000         53.8500      108.1500 1.0000   \n",
       "3            0.0000         42.3000     1840.7500 0.0000   \n",
       "4            1.0000         70.7000      151.6500 1.0000   \n",
       "\n",
       "   MultipleLines_No phone service  MultipleLines_Yes  \\\n",
       "0                          1.0000             0.0000   \n",
       "1                          0.0000             0.0000   \n",
       "2                          0.0000             0.0000   \n",
       "3                          1.0000             0.0000   \n",
       "4                          0.0000             0.0000   \n",
       "\n",
       "   InternetService_Fiber optic  InternetService_No  Contract_One year  \\\n",
       "0                       0.0000              0.0000             0.0000   \n",
       "1                       0.0000              0.0000             1.0000   \n",
       "2                       0.0000              0.0000             0.0000   \n",
       "3                       0.0000              0.0000             1.0000   \n",
       "4                       1.0000              0.0000             0.0000   \n",
       "\n",
       "   Contract_Two year  PaymentMethod_Credit card (automatic)  \\\n",
       "0             0.0000                                 0.0000   \n",
       "1             0.0000                                 0.0000   \n",
       "2             0.0000                                 0.0000   \n",
       "3             0.0000                                 0.0000   \n",
       "4             0.0000                                 0.0000   \n",
       "\n",
       "   PaymentMethod_Electronic check  PaymentMethod_Mailed check  tenure_2  \\\n",
       "0                          1.0000                      0.0000    0.0000   \n",
       "1                          0.0000                      1.0000    0.0000   \n",
       "2                          0.0000                      1.0000    0.0000   \n",
       "3                          0.0000                      0.0000    0.0000   \n",
       "4                          1.0000                      0.0000    0.0000   \n",
       "\n",
       "   tenure_3  tenure_4  tenure_5  \n",
       "0    0.0000    0.0000    0.0000  \n",
       "1    1.0000    0.0000    0.0000  \n",
       "2    0.0000    0.0000    0.0000  \n",
       "3    1.0000    0.0000    0.0000  \n",
       "4    0.0000    0.0000    0.0000  "
      ]
     },
     "execution_count": 2,
     "metadata": {},
     "output_type": "execute_result"
    }
   ],
   "source": [
    "data = pd.read_csv('data/clean_data.csv')\n",
    "data.head()"
   ]
  },
  {
   "cell_type": "code",
   "execution_count": 3,
   "metadata": {},
   "outputs": [
    {
     "name": "stdout",
     "output_type": "stream",
     "text": [
      "<class 'pandas.core.frame.DataFrame'>\n",
      "RangeIndex: 7021 entries, 0 to 7020\n",
      "Data columns (total 28 columns):\n",
      " #   Column                                 Non-Null Count  Dtype  \n",
      "---  ------                                 --------------  -----  \n",
      " 0   gender                                 7021 non-null   float64\n",
      " 1   SeniorCitizen                          7021 non-null   float64\n",
      " 2   Partner                                7021 non-null   float64\n",
      " 3   Dependents                             7021 non-null   float64\n",
      " 4   PhoneService                           7021 non-null   float64\n",
      " 5   OnlineSecurity                         7021 non-null   float64\n",
      " 6   OnlineBackup                           7021 non-null   float64\n",
      " 7   DeviceProtection                       7021 non-null   float64\n",
      " 8   TechSupport                            7021 non-null   float64\n",
      " 9   StreamingTV                            7021 non-null   float64\n",
      " 10  StreamingMovies                        7021 non-null   float64\n",
      " 11  PaperlessBilling                       7021 non-null   float64\n",
      " 12  MonthlyCharges                         7021 non-null   float64\n",
      " 13  TotalCharges                           7021 non-null   float64\n",
      " 14  Churn                                  7021 non-null   float64\n",
      " 15  MultipleLines_No phone service         7021 non-null   float64\n",
      " 16  MultipleLines_Yes                      7021 non-null   float64\n",
      " 17  InternetService_Fiber optic            7021 non-null   float64\n",
      " 18  InternetService_No                     7021 non-null   float64\n",
      " 19  Contract_One year                      7021 non-null   float64\n",
      " 20  Contract_Two year                      7021 non-null   float64\n",
      " 21  PaymentMethod_Credit card (automatic)  7021 non-null   float64\n",
      " 22  PaymentMethod_Electronic check         7021 non-null   float64\n",
      " 23  PaymentMethod_Mailed check             7021 non-null   float64\n",
      " 24  tenure_2                               7021 non-null   float64\n",
      " 25  tenure_3                               7021 non-null   float64\n",
      " 26  tenure_4                               7021 non-null   float64\n",
      " 27  tenure_5                               7021 non-null   float64\n",
      "dtypes: float64(28)\n",
      "memory usage: 1.5 MB\n"
     ]
    }
   ],
   "source": [
    "data.info()"
   ]
  },
  {
   "cell_type": "markdown",
   "metadata": {},
   "source": [
    "# Train Test Split"
   ]
  },
  {
   "cell_type": "code",
   "execution_count": 4,
   "metadata": {},
   "outputs": [],
   "source": [
    "from sklearn.model_selection import train_test_split\n",
    "from sklearn.preprocessing import StandardScaler\n",
    "\n",
    "X = data.drop('Churn', axis=1)\n",
    "y = data.Churn\n",
    "\n",
    "X_train, X_test, y_train, y_test = train_test_split(X, y, test_size=0.3, random_state=42)"
   ]
  },
  {
   "cell_type": "markdown",
   "metadata": {},
   "source": [
    "## Base line model\n",
    "\n",
    "We an imbalanced problem here. If we predict that all our customers will not churn, we will have an accuracy of `73.84%`."
   ]
  },
  {
   "cell_type": "code",
   "execution_count": 5,
   "metadata": {},
   "outputs": [
    {
     "data": {
      "text/plain": [
       "0.7384907451352634"
      ]
     },
     "execution_count": 5,
     "metadata": {},
     "output_type": "execute_result"
    }
   ],
   "source": [
    "(y_test.value_counts()[0] / y_test.shape)[0]"
   ]
  },
  {
   "cell_type": "code",
   "execution_count": 6,
   "metadata": {},
   "outputs": [],
   "source": [
    "from sklearn.metrics import accuracy_score, confusion_matrix, precision_score, recall_score, f1_score\n",
    "\n",
    "def print_score(clf, X_train, y_train, X_test, y_test, train=True):\n",
    "    if train:\n",
    "        pred = clf.predict(X_train)\n",
    "        print(\"Train Result:\\n================================================\")\n",
    "        print(f\"Accuracy Score: {accuracy_score(y_train, pred) * 100:.2f}%\")\n",
    "        print(\"_______________________________________________\")\n",
    "        print(\"Classification Report:\", end='')\n",
    "        print(f\"\\tPrecision Score: {precision_score(y_train, pred) * 100:.2f}%\")\n",
    "        print(f\"\\t\\t\\tRecall Score: {recall_score(y_train, pred) * 100:.2f}%\")\n",
    "        print(f\"\\t\\t\\tF1 score: {f1_score(y_train, pred) * 100:.2f}%\")\n",
    "        print(\"_______________________________________________\")\n",
    "        print(f\"Confusion Matrix: \\n {confusion_matrix(y_train, pred)}\\n\")\n",
    "        \n",
    "    elif train==False:\n",
    "        pred = clf.predict(X_test)\n",
    "        print(\"Test Result:\\n================================================\")        \n",
    "        print(f\"Accuracy Score: {accuracy_score(y_test, pred) * 100:.2f}%\")\n",
    "        print(\"_______________________________________________\")\n",
    "        print(\"Classification Report:\", end='')\n",
    "        print(f\"\\tPrecision Score: {precision_score(y_test, pred) * 100:.2f}%\")\n",
    "        print(f\"\\t\\t\\tRecall Score: {recall_score(y_test, pred) * 100:.2f}%\")\n",
    "        print(f\"\\t\\t\\tF1 score: {f1_score(y_test, pred) * 100:.2f}%\")\n",
    "        print(\"_______________________________________________\")\n",
    "        print(f\"Confusion Matrix: \\n {confusion_matrix(y_test, pred)}\\n\")"
   ]
  },
  {
   "cell_type": "markdown",
   "metadata": {},
   "source": [
    "# 1. Logistic Regression"
   ]
  },
  {
   "cell_type": "code",
   "execution_count": 7,
   "metadata": {},
   "outputs": [
    {
     "name": "stdout",
     "output_type": "stream",
     "text": [
      "Train Result:\n",
      "================================================\n",
      "Accuracy Score: 78.82%\n",
      "_______________________________________________\n",
      "Classification Report:\tPrecision Score: 59.87%\n",
      "\t\t\tRecall Score: 61.56%\n",
      "\t\t\tF1 score: 60.70%\n",
      "_______________________________________________\n",
      "Confusion Matrix: \n",
      " [[3069  539]\n",
      " [ 502  804]]\n",
      "\n",
      "Test Result:\n",
      "================================================\n",
      "Accuracy Score: 78.12%\n",
      "_______________________________________________\n",
      "Classification Report:\tPrecision Score: 57.76%\n",
      "\t\t\tRecall Score: 60.80%\n",
      "\t\t\tF1 score: 59.24%\n",
      "_______________________________________________\n",
      "Confusion Matrix: \n",
      " [[1311  245]\n",
      " [ 216  335]]\n",
      "\n"
     ]
    }
   ],
   "source": [
    "from sklearn.linear_model import LogisticRegression\n",
    "from sklearn.preprocessing import MinMaxScaler\n",
    "\n",
    "scaler = MinMaxScaler()\n",
    "X_train_std = scaler.fit_transform(X_train)\n",
    "X_test_std = scaler.transform(X_test)\n",
    "\n",
    "lr_classifier = LogisticRegression(solver='liblinear', penalty='l1')\n",
    "lr_classifier.fit(X_train, y_train)\n",
    "\n",
    "print_score(lr_classifier, X_train_std, y_train, X_test_std, y_test, train=True)\n",
    "print_score(lr_classifier, X_train_std, y_train, X_test_std, y_test, train=False)"
   ]
  },
  {
   "cell_type": "markdown",
   "metadata": {},
   "source": [
    "## Cross Validation Score for Logistic Regression"
   ]
  },
  {
   "cell_type": "code",
   "execution_count": 8,
   "metadata": {},
   "outputs": [
    {
     "name": "stdout",
     "output_type": "stream",
     "text": [
      "[0.57038391 0.57220708 0.57904412]\n",
      "Logistic Accuracy: 57.39% +/- (0.37)\n"
     ]
    }
   ],
   "source": [
    "from sklearn.model_selection import cross_val_score\n",
    "\n",
    "X_std = scaler.transform(X)\n",
    "\n",
    "scores = cross_val_score(lr_classifier, X_std, y, cv=3, scoring='f1')\n",
    "print(scores)\n",
    "print(f\"Logistic Accuracy: {scores.mean() * 100:.2f}% +/- ({scores.std() * 100:.2f})\")"
   ]
  },
  {
   "cell_type": "code",
   "execution_count": 9,
   "metadata": {},
   "outputs": [
    {
     "data": {
      "image/png": "[encoded data removed]",
      "text/plain": [
       "<Figure size 432x288 with 2 Axes>"
      ]
     },
     "metadata": {
      "needs_background": "light"
     },
     "output_type": "display_data"
    }
   ],
   "source": [
    "from sklearn.metrics import plot_confusion_matrix, plot_roc_curve\n",
    "\n",
    "disp = plot_confusion_matrix(lr_classifier, X_test, y_test, \n",
    "                             cmap='Blues', values_format='d', \n",
    "                             display_labels=['Stay', 'Churn'])"
   ]
  },
  {
   "cell_type": "code",
   "execution_count": 10,
   "metadata": {},
   "outputs": [
    {
     "data": {
      "image/png": "[encoded data removed]",
      "text/plain": [
       "<Figure size 432x288 with 1 Axes>"
      ]
     },
     "metadata": {
      "needs_background": "light"
     },
     "output_type": "display_data"
    }
   ],
   "source": [
    "disp = plot_roc_curve(lr_classifier, X_test, y_test)"
   ]
  },
  {
   "cell_type": "markdown",
   "metadata": {},
   "source": [
    "# 2. Random Forest Classifier"
   ]
  },
  {
   "cell_type": "code",
   "execution_count": 11,
   "metadata": {},
   "outputs": [
    {
     "name": "stdout",
     "output_type": "stream",
     "text": [
      "Staying Rate: 73.42%\n",
      "Churning Rate: 26.58%\n"
     ]
    }
   ],
   "source": [
    "stay = (y_train.value_counts()[0] / y_train.shape)[0]\n",
    "churn = (y_train.value_counts()[1] / y_train.shape)[0]\n",
    "\n",
    "print(f\"Staying Rate: {stay * 100:.2f}%\")\n",
    "print(f\"Churning Rate: {churn * 100 :.2f}%\")"
   ]
  },
  {
   "cell_type": "code",
   "execution_count": 12,
   "metadata": {},
   "outputs": [
    {
     "name": "stdout",
     "output_type": "stream",
     "text": [
      "Train Result:\n",
      "================================================\n",
      "Accuracy Score: 99.72%\n",
      "_______________________________________________\n",
      "Classification Report:\tPrecision Score: 99.31%\n",
      "\t\t\tRecall Score: 99.62%\n",
      "\t\t\tF1 score: 99.46%\n",
      "_______________________________________________\n",
      "Confusion Matrix: \n",
      " [[3599    9]\n",
      " [   5 1301]]\n",
      "\n",
      "Test Result:\n",
      "================================================\n",
      "Accuracy Score: 78.74%\n",
      "_______________________________________________\n",
      "Classification Report:\tPrecision Score: 61.95%\n",
      "\t\t\tRecall Score: 48.46%\n",
      "\t\t\tF1 score: 54.38%\n",
      "_______________________________________________\n",
      "Confusion Matrix: \n",
      " [[1392  164]\n",
      " [ 284  267]]\n",
      "\n"
     ]
    }
   ],
   "source": [
    "from sklearn.ensemble import RandomForestClassifier\n",
    "\n",
    "rand_forest = RandomForestClassifier(n_estimators=1000)\n",
    "rand_forest.fit(X_train, y_train)\n",
    "\n",
    "print_score(rand_forest, X_train, y_train, X_test, y_test, train=True)\n",
    "print_score(rand_forest, X_train, y_train, X_test, y_test, train=False)"
   ]
  },
  {
   "cell_type": "code",
   "execution_count": 13,
   "metadata": {},
   "outputs": [],
   "source": [
    "from sklearn.model_selection import GridSearchCV\n",
    "\n",
    "rf_clf = RandomForestClassifier(n_estimators=100)\n",
    "\n",
    "param_grid = {'n_estimators':[550, 600, 650],\n",
    "              'max_depth':[3, 5, 7, 10, 15, None], \n",
    "              'min_samples_split':[2, 3, 10], \n",
    "              'min_samples_leaf':[1, 3, 5, 7, 10], \n",
    "              'criterion':[\"gini\", \"entropy\"]}\n",
    "\n",
    "rf_grid_cv = GridSearchCV(rf_clf, param_grid, scoring=\"f1\", n_jobs=-1, verbose=1, cv=3)\n",
    "# rf_grid_cv.fit(X_train, y_train)"
   ]
  },
  {
   "cell_type": "code",
   "execution_count": 14,
   "metadata": {},
   "outputs": [],
   "source": [
    "# rf_grid_cv.best_estimator_"
   ]
  },
  {
   "cell_type": "code",
   "execution_count": 15,
   "metadata": {},
   "outputs": [
    {
     "name": "stdout",
     "output_type": "stream",
     "text": [
      "Train Result:\n",
      "================================================\n",
      "Accuracy Score: 84.74%\n",
      "_______________________________________________\n",
      "Classification Report:\tPrecision Score: 77.25%\n",
      "\t\t\tRecall Score: 60.34%\n",
      "\t\t\tF1 score: 67.76%\n",
      "_______________________________________________\n",
      "Confusion Matrix: \n",
      " [[3376  232]\n",
      " [ 518  788]]\n",
      "\n",
      "Test Result:\n",
      "================================================\n",
      "Accuracy Score: 80.26%\n",
      "_______________________________________________\n",
      "Classification Report:\tPrecision Score: 66.34%\n",
      "\t\t\tRecall Score: 49.73%\n",
      "\t\t\tF1 score: 56.85%\n",
      "_______________________________________________\n",
      "Confusion Matrix: \n",
      " [[1417  139]\n",
      " [ 277  274]]\n",
      "\n"
     ]
    }
   ],
   "source": [
    "rf_clf = RandomForestClassifier(criterion='entropy',\n",
    "                                max_depth=10,\n",
    "                                min_samples_leaf=3, \n",
    "                                min_samples_split=3,\n",
    "                                n_estimators=600)\n",
    "\n",
    "rf_clf.fit(X_train, y_train)\n",
    "print_score(rf_clf, X_train, y_train, X_test, y_test, train=True)\n",
    "print_score(rf_clf, X_train, y_train, X_test, y_test, train=False)"
   ]
  },
  {
   "cell_type": "markdown",
   "metadata": {},
   "source": [
    "## Cross Validation Score for Random Forest Classifier"
   ]
  },
  {
   "cell_type": "code",
   "execution_count": 16,
   "metadata": {},
   "outputs": [
    {
     "name": "stdout",
     "output_type": "stream",
     "text": [
      "[0.57598499 0.56596906 0.57409133]\n",
      "Random Forest F1_score: 57.20% +/- (0.43)\n"
     ]
    }
   ],
   "source": [
    "scores = cross_val_score(rf_clf, X, y, cv=3, scoring='f1')\n",
    "print(scores)\n",
    "print(f\"Random Forest F1_score: {scores.mean() * 100:.2f}% +/- ({scores.std() * 100:.2f})\")"
   ]
  },
  {
   "cell_type": "code",
   "execution_count": 17,
   "metadata": {},
   "outputs": [
    {
     "data": {
      "image/png": "[encoded data removed]",
      "text/plain": [
       "<Figure size 432x288 with 2 Axes>"
      ]
     },
     "metadata": {
      "needs_background": "light"
     },
     "output_type": "display_data"
    }
   ],
   "source": [
    "disp = plot_confusion_matrix(rf_clf, X_test, y_test, \n",
    "                             cmap='Blues', values_format='d', \n",
    "                             display_labels=['Stay', 'Churn'])"
   ]
  },
  {
   "cell_type": "code",
   "execution_count": 18,
   "metadata": {},
   "outputs": [
    {
     "data": {
      "text/plain": [
       "<sklearn.metrics._plot.roc_curve.RocCurveDisplay at 0x22c6e6aff98>"
      ]
     },
     "execution_count": 18,
     "metadata": {},
     "output_type": "execute_result"
    },
    {
     "data": {
      "image/png": "[encoded data removed]",
      "text/plain": [
       "<Figure size 432x288 with 1 Axes>"
      ]
     },
     "metadata": {
      "needs_background": "light"
     },
     "output_type": "display_data"
    }
   ],
   "source": [
    "disp = plot_roc_curve(lr_classifier, X_test, y_test)\n",
    "plot_roc_curve(rf_clf, X_test, y_test, ax=disp.ax_)"
   ]
  },
  {
   "cell_type": "markdown",
   "metadata": {},
   "source": [
    "# 3. Support Vector Machine"
   ]
  },
  {
   "cell_type": "code",
   "execution_count": 19,
   "metadata": {},
   "outputs": [
    {
     "name": "stdout",
     "output_type": "stream",
     "text": [
      "Train Result:\n",
      "================================================\n",
      "Accuracy Score: 82.36%\n",
      "_______________________________________________\n",
      "Classification Report:\tPrecision Score: 73.68%\n",
      "\t\t\tRecall Score: 52.30%\n",
      "\t\t\tF1 score: 61.17%\n",
      "_______________________________________________\n",
      "Confusion Matrix: \n",
      " [[3364  244]\n",
      " [ 623  683]]\n",
      "\n",
      "Test Result:\n",
      "================================================\n",
      "Accuracy Score: 79.64%\n",
      "_______________________________________________\n",
      "Classification Report:\tPrecision Score: 66.05%\n",
      "\t\t\tRecall Score: 45.55%\n",
      "\t\t\tF1 score: 53.92%\n",
      "_______________________________________________\n",
      "Confusion Matrix: \n",
      " [[1427  129]\n",
      " [ 300  251]]\n",
      "\n"
     ]
    }
   ],
   "source": [
    "from sklearn.svm import SVC\n",
    "\n",
    "svc = SVC(kernel='rbf')\n",
    "svc.fit(X_train_std, y_train)\n",
    "\n",
    "print_score(svc, X_train_std, y_train, X_test_std, y_test, train=True)\n",
    "print_score(svc, X_train_std, y_train, X_test_std, y_test, train=False)"
   ]
  },
  {
   "cell_type": "code",
   "execution_count": 20,
   "metadata": {},
   "outputs": [],
   "source": [
    "param_grid = {\n",
    "    'C':[0.001, 0.01, 0.1, 1, 10, 100],\n",
    "    'gamma':[1, 0.1, 0.01, 0.001],\n",
    "    'kernel':['rbf']\n",
    "}\n",
    "\n",
    "grid_cv = GridSearchCV(SVC(), param_grid, verbose=1, cv=5, n_jobs=-1)\n",
    "# grid_cv.fit(X_train_std, y_train)"
   ]
  },
  {
   "cell_type": "code",
   "execution_count": 21,
   "metadata": {},
   "outputs": [],
   "source": [
    "# grid_cv.best_estimator_"
   ]
  },
  {
   "cell_type": "code",
   "execution_count": 22,
   "metadata": {},
   "outputs": [
    {
     "name": "stdout",
     "output_type": "stream",
     "text": [
      "Train Result:\n",
      "================================================\n",
      "Accuracy Score: 80.40%\n",
      "_______________________________________________\n",
      "Classification Report:\tPrecision Score: 70.06%\n",
      "\t\t\tRecall Score: 45.87%\n",
      "\t\t\tF1 score: 55.44%\n",
      "_______________________________________________\n",
      "Confusion Matrix: \n",
      " [[3352  256]\n",
      " [ 707  599]]\n",
      "\n",
      "Test Result:\n",
      "================================================\n",
      "Accuracy Score: 79.92%\n",
      "_______________________________________________\n",
      "Classification Report:\tPrecision Score: 67.39%\n",
      "\t\t\tRecall Score: 45.01%\n",
      "\t\t\tF1 score: 53.97%\n",
      "_______________________________________________\n",
      "Confusion Matrix: \n",
      " [[1436  120]\n",
      " [ 303  248]]\n",
      "\n"
     ]
    }
   ],
   "source": [
    "svc = SVC(C=10, gamma=0.01, kernel='rbf')\n",
    "svc.fit(X_train_std, y_train)\n",
    "\n",
    "print_score(svc, X_train_std, y_train, X_test_std, y_test, train=True)\n",
    "print_score(svc, X_train_std, y_train, X_test_std, y_test, train=False)"
   ]
  },
  {
   "cell_type": "code",
   "execution_count": 23,
   "metadata": {},
   "outputs": [
    {
     "data": {
      "image/png": "[encoded data removed]",
      "text/plain": [
       "<Figure size 432x288 with 2 Axes>"
      ]
     },
     "metadata": {
      "needs_background": "light"
     },
     "output_type": "display_data"
    }
   ],
   "source": [
    "disp = plot_confusion_matrix(svc, X_test_std, y_test, \n",
    "                             cmap='Blues', values_format='d', \n",
    "                             display_labels=['Stay', 'Churn'])"
   ]
  },
  {
   "cell_type": "code",
   "execution_count": 24,
   "metadata": {},
   "outputs": [
    {
     "data": {
      "text/plain": [
       "<sklearn.metrics._plot.roc_curve.RocCurveDisplay at 0x22c6f79ac50>"
      ]
     },
     "execution_count": 24,
     "metadata": {},
     "output_type": "execute_result"
    },
    {
     "data": {
      "image/png": "[encoded data removed]",
      "text/plain": [
       "<Figure size 432x288 with 1 Axes>"
      ]
     },
     "metadata": {
      "needs_background": "light"
     },
     "output_type": "display_data"
    }
   ],
   "source": [
    "disp = plot_roc_curve(lr_classifier, X_test, y_test)\n",
    "plot_roc_curve(rf_clf, X_test, y_test, ax=disp.ax_)\n",
    "plot_roc_curve(svc, X_test_std, y_test, ax=disp.ax_)"
   ]
  },
  {
   "cell_type": "markdown",
   "metadata": {},
   "source": [
    "## Cross Validation Score for Support Vector Machine"
   ]
  },
  {
   "cell_type": "code",
   "execution_count": 25,
   "metadata": {},
   "outputs": [
    {
     "name": "stdout",
     "output_type": "stream",
     "text": [
      "[0.57088123 0.53947368 0.53802281]\n",
      "Support Vector Machine f1_score: 54.95% +/- (1.52)\n"
     ]
    }
   ],
   "source": [
    "scores = cross_val_score(svc, X_std, y, cv=3, scoring='f1')\n",
    "print(scores)\n",
    "print(f\"Support Vector Machine f1_score: {scores.mean() * 100:.2f}% +/- ({scores.std() * 100:.2f})\")"
   ]
  },
  {
   "cell_type": "markdown",
   "metadata": {},
   "source": [
    "# 4. XGBoost Classifier"
   ]
  },
  {
   "cell_type": "code",
   "execution_count": 26,
   "metadata": {},
   "outputs": [
    {
     "name": "stdout",
     "output_type": "stream",
     "text": [
      "Train Result:\n",
      "================================================\n",
      "Accuracy Score: 82.11%\n",
      "_______________________________________________\n",
      "Classification Report:\tPrecision Score: 70.79%\n",
      "\t\t\tRecall Score: 55.67%\n",
      "\t\t\tF1 score: 62.32%\n",
      "_______________________________________________\n",
      "Confusion Matrix: \n",
      " [[3308  300]\n",
      " [ 579  727]]\n",
      "\n",
      "Test Result:\n",
      "================================================\n",
      "Accuracy Score: 79.78%\n",
      "_______________________________________________\n",
      "Classification Report:\tPrecision Score: 64.78%\n",
      "\t\t\tRecall Score: 49.73%\n",
      "\t\t\tF1 score: 56.26%\n",
      "_______________________________________________\n",
      "Confusion Matrix: \n",
      " [[1407  149]\n",
      " [ 277  274]]\n",
      "\n"
     ]
    }
   ],
   "source": [
    "from xgboost import XGBClassifier\n",
    "\n",
    "xgb_clf = XGBClassifier()\n",
    "xgb_clf.fit(X_train, y_train)\n",
    "\n",
    "print_score(xgb_clf, X_train, y_train, X_test, y_test, train=True)\n",
    "print_score(xgb_clf, X_train, y_train, X_test, y_test, train=False)"
   ]
  },
  {
   "cell_type": "code",
   "execution_count": 27,
   "metadata": {},
   "outputs": [],
   "source": [
    "hyperparameter_grid = {'n_estimators': [75, 90, 100, 125], \n",
    "                       'learning_rate' : [0.09, 0.1, 0.2], \n",
    "                       'base_score' : [0.15],\n",
    "                       'colsample_bytree':[0.85, 0.95, 1],\n",
    "                       'colsample_bylevel':[0.85, 0.95, 1],\n",
    "                       'colsample_bynode':[0.85, 0.95, 1],\n",
    "                      }\n",
    "\n",
    "xgb_clf = XGBClassifier()\n",
    "xgb_cv = GridSearchCV(estimator=xgb_clf, param_grid=hyperparameter_grid, cv=3, \n",
    "                      scoring='f1', n_jobs =-1, verbose=1)\n",
    "\n",
    "# xgb_cv.fit(X_train, y_train)"
   ]
  },
  {
   "cell_type": "code",
   "execution_count": 28,
   "metadata": {},
   "outputs": [],
   "source": [
    "# xgb_cv.best_estimator_"
   ]
  },
  {
   "cell_type": "code",
   "execution_count": 29,
   "metadata": {},
   "outputs": [
    {
     "name": "stdout",
     "output_type": "stream",
     "text": [
      "Train Result:\n",
      "================================================\n",
      "Accuracy Score: 82.15%\n",
      "_______________________________________________\n",
      "Classification Report:\tPrecision Score: 70.89%\n",
      "\t\t\tRecall Score: 55.74%\n",
      "\t\t\tF1 score: 62.41%\n",
      "_______________________________________________\n",
      "Confusion Matrix: \n",
      " [[3309  299]\n",
      " [ 578  728]]\n",
      "\n",
      "Test Result:\n",
      "================================================\n",
      "Accuracy Score: 79.69%\n",
      "_______________________________________________\n",
      "Classification Report:\tPrecision Score: 64.40%\n",
      "\t\t\tRecall Score: 49.91%\n",
      "\t\t\tF1 score: 56.24%\n",
      "_______________________________________________\n",
      "Confusion Matrix: \n",
      " [[1404  152]\n",
      " [ 276  275]]\n",
      "\n"
     ]
    }
   ],
   "source": [
    "xgb_clf = XGBClassifier(base_score=0.15, \n",
    "                        learning_rate=0.09, \n",
    "                        colsample_bylevel=0.85,\n",
    "                        colsample_bynode=0.85, \n",
    "                        colsample_bytree=0.95,\n",
    "                        n_estimators=100)\n",
    "xgb_clf.fit(X_train, y_train)\n",
    "\n",
    "print_score(xgb_clf, X_train, y_train, X_test, y_test, train=True)\n",
    "print_score(xgb_clf, X_train, y_train, X_test, y_test, train=False)"
   ]
  },
  {
   "cell_type": "markdown",
   "metadata": {},
   "source": [
    "## XGBoost cross validations score"
   ]
  },
  {
   "cell_type": "code",
   "execution_count": 30,
   "metadata": {},
   "outputs": [
    {
     "name": "stdout",
     "output_type": "stream",
     "text": [
      "[0.59854015 0.59272405 0.57038391]\n",
      "XGBoost F1_score: 58.72% +/- (1.21)\n"
     ]
    }
   ],
   "source": [
    "scores = cross_val_score(xgb_clf, X, y, cv=3, scoring='f1')\n",
    "print(scores)\n",
    "print(f\"XGBoost F1_score: {scores.mean() * 100:.2f}% +/- ({scores.std() * 100:.2f})\")"
   ]
  },
  {
   "cell_type": "code",
   "execution_count": 31,
   "metadata": {},
   "outputs": [
    {
     "data": {
      "text/plain": [
       "<sklearn.metrics._plot.roc_curve.RocCurveDisplay at 0x22c7180fe48>"
      ]
     },
     "execution_count": 31,
     "metadata": {},
     "output_type": "execute_result"
    },
    {
     "data": {
      "text/plain": [
       "<Figure size 864x576 with 0 Axes>"
      ]
     },
     "metadata": {},
     "output_type": "display_data"
    },
    {
     "data": {
      "image/png": "[encoded data removed]",
      "text/plain": [
       "<Figure size 432x288 with 1 Axes>"
      ]
     },
     "metadata": {
      "needs_background": "light"
     },
     "output_type": "display_data"
    }
   ],
   "source": [
    "plt.figure(figsize=(12, 8))\n",
    "disp = plot_roc_curve(lr_classifier, X_test, y_test)\n",
    "plot_roc_curve(rf_clf, X_test, y_test, ax=disp.ax_)\n",
    "plot_roc_curve(svc, X_test_std, y_test, ax=disp.ax_)\n",
    "plot_roc_curve(xgb_clf, X_test, y_test, ax=disp.ax_)"
   ]
  },
  {
   "cell_type": "markdown",
   "metadata": {},
   "source": [
    "# 5. AdaBoost Classifier"
   ]
  },
  {
   "cell_type": "code",
   "execution_count": 46,
   "metadata": {},
   "outputs": [
    {
     "name": "stdout",
     "output_type": "stream",
     "text": [
      "Train Result:\n",
      "================================================\n",
      "Accuracy Score: 81.01%\n",
      "_______________________________________________\n",
      "Classification Report:\tPrecision Score: 67.54%\n",
      "\t\t\tRecall Score: 54.98%\n",
      "\t\t\tF1 score: 60.62%\n",
      "_______________________________________________\n",
      "Confusion Matrix: \n",
      " [[3263  345]\n",
      " [ 588  718]]\n",
      "\n",
      "Test Result:\n",
      "================================================\n",
      "Accuracy Score: 79.69%\n",
      "_______________________________________________\n",
      "Classification Report:\tPrecision Score: 63.52%\n",
      "\t\t\tRecall Score: 52.45%\n",
      "\t\t\tF1 score: 57.46%\n",
      "_______________________________________________\n",
      "Confusion Matrix: \n",
      " [[1390  166]\n",
      " [ 262  289]]\n",
      "\n"
     ]
    }
   ],
   "source": [
    "from sklearn.ensemble import AdaBoostClassifier\n",
    "\n",
    "ada_clf = AdaBoostClassifier()\n",
    "ada_clf.fit(X_train, y_train)\n",
    "\n",
    "print_score(ada_clf, X_train, y_train, X_test, y_test, train=True)\n",
    "print_score(ada_clf, X_train, y_train, X_test, y_test, train=False)"
   ]
  },
  {
   "cell_type": "markdown",
   "metadata": {},
   "source": [
    "## AdaBoost cross validations score"
   ]
  },
  {
   "cell_type": "code",
   "execution_count": 47,
   "metadata": {},
   "outputs": [
    {
     "name": "stdout",
     "output_type": "stream",
     "text": [
      "[0.58969805 0.59062776 0.58802817]\n",
      "AdaBoost F1_score: 58.95% +/- (0.11)\n"
     ]
    }
   ],
   "source": [
    "scores = cross_val_score(ada_clf, X, y, cv=3, scoring='f1')\n",
    "print(scores)\n",
    "print(f\"AdaBoost F1_score: {scores.mean() * 100:.2f}% +/- ({scores.std() * 100:.2f})\")"
   ]
  },
  {
   "cell_type": "code",
   "execution_count": 48,
   "metadata": {},
   "outputs": [
    {
     "data": {
      "text/plain": [
       "<sklearn.metrics._plot.roc_curve.RocCurveDisplay at 0x22c71e3e780>"
      ]
     },
     "execution_count": 48,
     "metadata": {},
     "output_type": "execute_result"
    },
    {
     "data": {
      "text/plain": [
       "<Figure size 864x576 with 0 Axes>"
      ]
     },
     "metadata": {},
     "output_type": "display_data"
    },
    {
     "data": {
      "image/png": "[encoded data removed]",
      "text/plain": [
       "<Figure size 432x288 with 1 Axes>"
      ]
     },
     "metadata": {
      "needs_background": "light"
     },
     "output_type": "display_data"
    }
   ],
   "source": [
    "plt.figure(figsize=(12, 8))\n",
    "disp = plot_roc_curve(lr_classifier, X_test, y_test)\n",
    "plot_roc_curve(rf_clf, X_test, y_test, ax=disp.ax_)\n",
    "plot_roc_curve(svc, X_test_std, y_test, ax=disp.ax_)\n",
    "plot_roc_curve(xgb_clf, X_test, y_test, ax=disp.ax_)\n",
    "plot_roc_curve(ada_clf, X_test, y_test, ax=disp.ax_)"
   ]
  },
  {
   "cell_type": "markdown",
   "metadata": {},
   "source": [
    "# 6. Gradient Boosting Machine"
   ]
  },
  {
   "cell_type": "code",
   "execution_count": 49,
   "metadata": {},
   "outputs": [
    {
     "name": "stdout",
     "output_type": "stream",
     "text": [
      "Train Result:\n",
      "================================================\n",
      "Accuracy Score: 83.27%\n",
      "_______________________________________________\n",
      "Classification Report:\tPrecision Score: 73.91%\n",
      "\t\t\tRecall Score: 57.27%\n",
      "\t\t\tF1 score: 64.54%\n",
      "_______________________________________________\n",
      "Confusion Matrix: \n",
      " [[3344  264]\n",
      " [ 558  748]]\n",
      "\n",
      "Test Result:\n",
      "================================================\n",
      "Accuracy Score: 79.88%\n",
      "_______________________________________________\n",
      "Classification Report:\tPrecision Score: 65.45%\n",
      "\t\t\tRecall Score: 48.82%\n",
      "\t\t\tF1 score: 55.93%\n",
      "_______________________________________________\n",
      "Confusion Matrix: \n",
      " [[1414  142]\n",
      " [ 282  269]]\n",
      "\n"
     ]
    }
   ],
   "source": [
    "from sklearn.ensemble import GradientBoostingClassifier\n",
    "\n",
    "gbm_clf = GradientBoostingClassifier()\n",
    "gbm_clf.fit(X_train, y_train)\n",
    "\n",
    "print_score(gbm_clf, X_train, y_train, X_test, y_test, train=True)\n",
    "print_score(gbm_clf, X_train, y_train, X_test, y_test, train=False)"
   ]
  },
  {
   "cell_type": "code",
   "execution_count": 50,
   "metadata": {},
   "outputs": [],
   "source": [
    "hyperparameter_grid = {'n_estimators': [90, 100, 120], \n",
    "                       'learning_rate' : [0.05, 0.1, 0.5], \n",
    "                       'max_depth' : [2, 3, 5, 7, 9],\n",
    "                       'subsample':[0.85, 0.95, 1]\n",
    "                      }\n",
    "\n",
    "gbm_clf = GradientBoostingClassifier()\n",
    "gbm_cv = GridSearchCV(estimator=gbm_clf, param_grid=hyperparameter_grid, cv=3, \n",
    "                      scoring='f1', n_jobs =-1, verbose=1)\n",
    "\n",
    "# gbm_cv.fit(X_train, y_train)"
   ]
  },
  {
   "cell_type": "code",
   "execution_count": 51,
   "metadata": {},
   "outputs": [],
   "source": [
    "# gbm_cv.best_estimator_"
   ]
  },
  {
   "cell_type": "code",
   "execution_count": 52,
   "metadata": {},
   "outputs": [
    {
     "name": "stdout",
     "output_type": "stream",
     "text": [
      "Train Result:\n",
      "================================================\n",
      "Accuracy Score: 81.38%\n",
      "_______________________________________________\n",
      "Classification Report:\tPrecision Score: 69.85%\n",
      "\t\t\tRecall Score: 52.68%\n",
      "\t\t\tF1 score: 60.06%\n",
      "_______________________________________________\n",
      "Confusion Matrix: \n",
      " [[3311  297]\n",
      " [ 618  688]]\n",
      "\n",
      "Test Result:\n",
      "================================================\n",
      "Accuracy Score: 79.73%\n",
      "_______________________________________________\n",
      "Classification Report:\tPrecision Score: 65.50%\n",
      "\t\t\tRecall Score: 47.55%\n",
      "\t\t\tF1 score: 55.10%\n",
      "_______________________________________________\n",
      "Confusion Matrix: \n",
      " [[1418  138]\n",
      " [ 289  262]]\n",
      "\n"
     ]
    }
   ],
   "source": [
    "gbm_clf = GradientBoostingClassifier(learning_rate=0.1, \n",
    "                                     n_estimators=120, \n",
    "                                     subsample=1, \n",
    "                                     max_depth=2)\n",
    "gbm_clf.fit(X_train, y_train)\n",
    "\n",
    "print_score(gbm_clf, X_train, y_train, X_test, y_test, train=True)\n",
    "print_score(gbm_clf, X_train, y_train, X_test, y_test, train=False)"
   ]
  },
  {
   "cell_type": "markdown",
   "metadata": {},
   "source": [
    "## GBM cross validations score"
   ]
  },
  {
   "cell_type": "code",
   "execution_count": 53,
   "metadata": {},
   "outputs": [
    {
     "name": "stdout",
     "output_type": "stream",
     "text": [
      "[0.57802401 0.58310627 0.5701107 ]\n",
      "GBM F1_score: 57.71% +/- (0.53)\n"
     ]
    }
   ],
   "source": [
    "scores = cross_val_score(gbm_clf, X, y, cv=3, scoring='f1')\n",
    "print(scores)\n",
    "print(f\"GBM F1_score: {scores.mean() * 100:.2f}% +/- ({scores.std() * 100:.2f})\")"
   ]
  },
  {
   "cell_type": "code",
   "execution_count": 54,
   "metadata": {},
   "outputs": [
    {
     "data": {
      "text/plain": [
       "<sklearn.metrics._plot.roc_curve.RocCurveDisplay at 0x22c71935da0>"
      ]
     },
     "execution_count": 54,
     "metadata": {},
     "output_type": "execute_result"
    },
    {
     "data": {
      "text/plain": [
       "<Figure size 864x576 with 0 Axes>"
      ]
     },
     "metadata": {},
     "output_type": "display_data"
    },
    {
     "data": {
      "image/png": "[encoded data removed]",
      "text/plain": [
       "<Figure size 432x288 with 1 Axes>"
      ]
     },
     "metadata": {
      "needs_background": "light"
     },
     "output_type": "display_data"
    }
   ],
   "source": [
    "plt.figure(figsize=(12, 8))\n",
    "disp = plot_roc_curve(lr_classifier, X_test, y_test)\n",
    "plot_roc_curve(rf_clf, X_test, y_test, ax=disp.ax_)\n",
    "plot_roc_curve(svc, X_test_std, y_test, ax=disp.ax_)\n",
    "plot_roc_curve(xgb_clf, X_test, y_test, ax=disp.ax_)\n",
    "plot_roc_curve(ada_clf, X_test, y_test, ax=disp.ax_)\n",
    "plot_roc_curve(gbm_clf, X_test, y_test, ax=disp.ax_)"
   ]
  },
  {
   "cell_type": "markdown",
   "metadata": {},
   "source": [
    "# Feature Importance"
   ]
  },
  {
   "cell_type": "code",
   "execution_count": 55,
   "metadata": {},
   "outputs": [],
   "source": [
    "def feature_imp(df, model):\n",
    "    fi = pd.DataFrame()\n",
    "    fi[\"feature\"] = df.columns\n",
    "    fi[\"importance\"] = model.feature_importances_\n",
    "    return fi.sort_values(by=\"importance\", ascending=False)"
   ]
  },
  {
   "cell_type": "code",
   "execution_count": 56,
   "metadata": {},
   "outputs": [
    {
     "data": {
      "text/plain": [
       "Text(0.5, 1.0, 'Feature Importance according to XGBoost')"
      ]
     },
     "execution_count": 56,
     "metadata": {},
     "output_type": "execute_result"
    },
    {
     "data": {
      "image/png": "[encoded data removed]",
      "text/plain": [
       "<Figure size 720x360 with 1 Axes>"
      ]
     },
     "metadata": {
      "needs_background": "light"
     },
     "output_type": "display_data"
    }
   ],
   "source": [
    "df = feature_imp(data.drop('Churn', axis=1), xgb_clf)\n",
    "df.set_index('feature', inplace=True)\n",
    "df.plot(kind='barh', figsize=(10, 5))\n",
    "plt.title('Feature Importance according to XGBoost')"
   ]
  },
  {
   "cell_type": "code",
   "execution_count": 57,
   "metadata": {},
   "outputs": [
    {
     "data": {
      "text/plain": [
       "Text(0.5, 1.0, 'Feature Importance according to Random Forest')"
      ]
     },
     "execution_count": 57,
     "metadata": {},
     "output_type": "execute_result"
    },
    {
     "data": {
      "image/png": "[encoded data removed]",
      "text/plain": [
       "<Figure size 720x360 with 1 Axes>"
      ]
     },
     "metadata": {
      "needs_background": "light"
     },
     "output_type": "display_data"
    }
   ],
   "source": [
    "df = feature_imp(data.drop('Churn', axis=1), rf_clf)\n",
    "df.set_index('feature', inplace=True)\n",
    "df.plot(kind='barh', figsize=(10, 5))\n",
    "plt.title('Feature Importance according to Random Forest')"
   ]
  },
  {
   "cell_type": "code",
   "execution_count": 58,
   "metadata": {},
   "outputs": [
    {
     "data": {
      "text/plain": [
       "RFE(estimator=LogisticRegression(C=1.0, class_weight=None, dual=False,\n",
       "                                 fit_intercept=True, intercept_scaling=1,\n",
       "                                 l1_ratio=None, max_iter=100,\n",
       "                                 multi_class='auto', n_jobs=None, penalty='l1',\n",
       "                                 random_state=None, solver='liblinear',\n",
       "                                 tol=0.0001, verbose=0, warm_start=False),\n",
       "    n_features_to_select=1, step=1, verbose=0)"
      ]
     },
     "execution_count": 58,
     "metadata": {},
     "output_type": "execute_result"
    }
   ],
   "source": [
    "from sklearn.feature_selection import RFE\n",
    "\n",
    "rfe = RFE(lr_classifier, n_features_to_select=1)\n",
    "rfe.fit(X_train, y_train)"
   ]
  },
  {
   "cell_type": "code",
   "execution_count": 59,
   "metadata": {},
   "outputs": [
    {
     "name": "stdout",
     "output_type": "stream",
     "text": [
      "{22: 'gender', 14: 'SeniorCitizen', 24: 'Partner', 19: 'Dependents', 10: 'PhoneService', 9: 'OnlineSecurity', 18: 'OnlineBackup', 25: 'DeviceProtection', 13: 'TechSupport', 15: 'StreamingTV', 12: 'StreamingMovies', 17: 'PaperlessBilling', 23: 'MonthlyCharges', 26: 'TotalCharges', 27: 'MultipleLines_No phone service', 16: 'MultipleLines_Yes', 3: 'InternetService_Fiber optic', 4: 'InternetService_No', 2: 'Contract_One year', 1: 'Contract_Two year', 20: 'PaymentMethod_Credit card (automatic)', 11: 'PaymentMethod_Electronic check', 21: 'PaymentMethod_Mailed check', 8: 'tenure_2', 7: 'tenure_3', 6: 'tenure_4', 5: 'tenure_5'}\n"
     ]
    }
   ],
   "source": [
    "rfe_ranking = dict(zip(rfe.ranking_.tolist(), X_train.columns.tolist()))\n",
    "print(rfe_ranking)"
   ]
  }
 ],
 "metadata": {
  "kernelspec": {
   "display_name": "Python 3",
   "language": "python",
   "name": "python3"
  },
  "language_info": {
   "codemirror_mode": {
    "name": "ipython",
    "version": 3
   },
   "file_extension": ".py",
   "mimetype": "text/x-python",
   "name": "python",
   "nbconvert_exporter": "python",
   "pygments_lexer": "ipython3",
   "version": "3.7.3"
  }
 },
 "nbformat": 4,
 "nbformat_minor": 4
}
